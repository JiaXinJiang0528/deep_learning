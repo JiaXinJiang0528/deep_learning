{
  "cells": [
    {
      "cell_type": "markdown",
      "metadata": {
        "id": "Vbzr8NW0_hn3"
      },
      "source": [
        "# Training Neural Networks with Keras\n",
        "\n",
        "Welcome to the first practical session of the course! In this session, we will learn how to train neural networks with Keras. We will start with a simple example of a feedforward neural network for classification and then we will study the impact of the initialization of the weights on the convergence of the training algorithm.\n",
        "\n",
        "Keras is a high-level neural network API, built on top of TensorFlow 2.0. It provides a user-friendly interface to build, train and deploy deep learning models. Keras is designed to be modular, fast and easy to use.\n",
        "\n",
        "Throughout this course, we will focus on using Keras and TensorFlow for building and training neural networks. However, there are other popular deep learning frameworks such as PyTorch, MXNet, CNTK, etc. that you can also use to build and train neural networks.\n",
        "\n",
        "In order to use our code on Google Colab, we will need to ensure that any required packages are installed. We will use the following packages in this session:\n",
        "\n",
        "- `tensorflow`: an open-source library for numerical computation and large-scale machine learning.\n",
        "- `matplotlib`: a plotting library for the Python programming language and its numerical mathematics extension NumPy.\n",
        "- `numpy`: a library for scientific computing in Python.\n",
        "- `scikit-learn`: a machine learning library for the Python programming language.\n",
        "- `pandas`: a library providing high-performance, easy-to-use data structures and data analysis tools for the Python programming language.\n",
        "\n",
        "The following cell will check if the packages are installed, and if not, it will install them. Students familiar with how pip works might note that it already checks this before installing! The reason for this code (which will also appear in subsequent notebooks) is to speed up execution if you re-run the entire notebook - it will skip the installation step if the packages are already installed."
      ]
    },
    {
      "cell_type": "markdown",
      "metadata": {
        "collapsed": false,
        "id": "8owqaGFo_hn6"
      },
      "source": [
        "With the packages installed, we can now get started on the practical session!\n",
        "\n",
        "Today, we will be working with the famous MNIST dataset. MNIST (Modified National Institute of Standards and Technology) is a database of low resolution images of handwritten digits. The history here is interesting - the dataset was originally created in the 1980s, when researchers from the aforementioned institute collected samples from American Census Bureau employees and high school students. The dataset was then modified in the 1990s (hence the M in MNIST), and has since become a popular benchmark for machine learning algorithms.\n",
        "\n",
        "The dataset contains images, each of which is a 28x28 grayscale image of a handwritten digit. The goal is to classify each image into one of the 10 possible classes (0-9).\n",
        "\n",
        "![MNIST](https://upload.wikimedia.org/wikipedia/commons/2/27/MnistExamples.png)\n",
        "\n",
        "The Scikit-Learn library provides a convenient function to download and load the MNIST dataset. The following cell will download the dataset. Then we will take a look at the shape of the data."
      ]
    },
    {
      "cell_type": "code",
      "source": [
        "# goal is to identify the handwritten pictures. We reduced the resolution from 28x28 to 8x8"
      ],
      "metadata": {
        "id": "EaGBNENBAlvF"
      },
      "execution_count": 4,
      "outputs": []
    },
    {
      "cell_type": "code",
      "execution_count": 5,
      "metadata": {
        "id": "DVyCCVyS_hn7"
      },
      "outputs": [],
      "source": [
        "import matplotlib.pyplot as plt\n",
        "import numpy as np\n",
        "\n",
        "from sklearn.datasets import load_digits\n",
        "# if we are not using standard loader, you need to write down your own code to load file.\n",
        "\n",
        "digits = load_digits()"
      ]
    },
    {
      "cell_type": "code",
      "execution_count": 6,
      "metadata": {
        "colab": {
          "base_uri": "https://localhost:8080/"
        },
        "id": "0GWbeDUl_hn9",
        "outputId": "946a7feb-00c3-4109-d19b-3172de0b5699"
      },
      "outputs": [
        {
          "output_type": "execute_result",
          "data": {
            "text/plain": [
              "(1797, 8, 8)"
            ]
          },
          "metadata": {},
          "execution_count": 6
        }
      ],
      "source": [
        "digits.images.shape # want to look at shape of images.\n"
      ]
    },
    {
      "cell_type": "markdown",
      "metadata": {
        "collapsed": false,
        "id": "_RgbjQL8_hn-"
      },
      "source": [
        "This means that we have 1797 images, each of which is a 8x8 image. For basic image processing, we will need to flatten the images into a 1D array. In this case, Scikit-Learn has already provided the data in this format too:"
      ]
    },
    {
      "cell_type": "code",
      "execution_count": 7,
      "metadata": {
        "colab": {
          "base_uri": "https://localhost:8080/"
        },
        "id": "NdsfpeSa_hn-",
        "outputId": "daeca81c-b715-4cb8-c317-5c3adc904367"
      },
      "outputs": [
        {
          "output_type": "execute_result",
          "data": {
            "text/plain": [
              "(1797, 64)"
            ]
          },
          "metadata": {},
          "execution_count": 7
        }
      ],
      "source": [
        "digits.data.shape # 2d matrix"
      ]
    },
    {
      "cell_type": "markdown",
      "metadata": {
        "collapsed": false,
        "id": "kOPiAnQV_hn_"
      },
      "source": [
        "For each image, we also have the corresponding label (or target, or class) in `digits.target`:"
      ]
    },
    {
      "cell_type": "code",
      "execution_count": 8,
      "metadata": {
        "colab": {
          "base_uri": "https://localhost:8080/"
        },
        "id": "c25DFxET_hn_",
        "outputId": "1b9925a2-d609-4aee-a04f-b24326340f47"
      },
      "outputs": [
        {
          "output_type": "execute_result",
          "data": {
            "text/plain": [
              "(1797,)"
            ]
          },
          "metadata": {},
          "execution_count": 8
        }
      ],
      "source": [
        "digits.target.shape # target means the prediction target - we are trying to predict digit of this image.\n",
        "# have the same # of items, empty means there is only 1 dimension of 1 output."
      ]
    },
    {
      "cell_type": "markdown",
      "metadata": {
        "collapsed": false,
        "id": "h-_Q2gEv_hn_"
      },
      "source": [
        "We can take a look at some random images from the dataset. The following cell will select 9 random images and plot them in a 3x3 grid (meaning that you can rerun the cell to see different images)."
      ]
    },
    {
      "cell_type": "code",
      "execution_count": 9,
      "metadata": {
        "colab": {
          "base_uri": "https://localhost:8080/",
          "height": 521
        },
        "id": "uswfUr7d_hoA",
        "outputId": "bb07d9e5-5f35-42e9-94b1-050a83f62210"
      },
      "outputs": [
        {
          "output_type": "display_data",
          "data": {
            "text/plain": [
              "<Figure size 600x600 with 9 Axes>"
            ],
            "image/png": "[encoded data removed]"
          },
          "metadata": {}
        }
      ],
      "source": [
        "# Selecting 9 random indices\n",
        "random_indices = np.random.choice(len(digits.images), 9, replace=False)\n",
        "# use numpy build in selection of images using random inex\n",
        "\n",
        "# Creating a 3x3 grid plot\n",
        "fig, axes = plt.subplots(3, 3, figsize=(6, 6))\n",
        "# show 9 images ,\n",
        "\n",
        "\n",
        "for i, ax in enumerate(axes.flat): # for each index, we fit an image into it.\n",
        "    ax.imshow(digits.images[random_indices[i]], cmap=plt.cm.gray_r, interpolation='nearest')\n",
        "    ax.set_title(f\"Label: {digits.target[random_indices[i]]}\")\n",
        "\n",
        "    # Removing axis labels\n",
        "    ax.set_xticks([])\n",
        "    ax.set_yticks([])\n",
        "\n",
        "plt.show()"
      ]
    },
    {
      "cell_type": "markdown",
      "metadata": {
        "collapsed": false,
        "id": "c5l1p8lj_hoA"
      },
      "source": [
        "As you can see, these images are very low resolution. This is because they were originally scanned from paper forms, and then scaled down to 8x8 pixels. This is a common problem in machine learning - the quality of the data is often a limiting factor in the performance of the model. In this case, the low resolution of the images makes it difficult to distinguish between some digits, even for humans. For example, the following images are all labelled as 9, but they look very different:"
      ]
    },
    {
      "cell_type": "code",
      "execution_count": 10,
      "metadata": {
        "colab": {
          "base_uri": "https://localhost:8080/",
          "height": 521
        },
        "id": "NR8HRIVU_hoA",
        "outputId": "fa259596-e4ad-40b6-a703-3a038e483dcd"
      },
      "outputs": [
        {
          "output_type": "display_data",
          "data": {
            "text/plain": [
              "<Figure size 600x600 with 9 Axes>"
            ],
            "image/png": "[encoded data removed]"
          },
          "metadata": {}
        }
      ],
      "source": [
        "# what if we want to see what all the 9s look like?\n",
        "# input data has two things, the image and the label - stored seperately but indexed .\n",
        "\n",
        "# Selecting 9 random indices of images labelled as 9\n",
        "random_indices = np.random.choice(np.where(digits.target == 9)[0], 9, replace=False)\n",
        "\n",
        "# Creating a 3x3 grid plot\n",
        "fig, axes = plt.subplots(3, 3, figsize=(6, 6))\n",
        "\n",
        "for i, ax in enumerate(axes.flat):\n",
        "    ax.imshow(digits.images[random_indices[i]], cmap=plt.cm.gray_r, interpolation='nearest')\n",
        "    ax.set_title(f\"Label: {digits.target[random_indices[i]]}\")\n",
        "\n",
        "    # Removing axis labels\n",
        "    ax.set_xticks([])\n",
        "    ax.set_yticks([])\n",
        "\n",
        "plt.show()"
      ]
    },
    {
      "cell_type": "markdown",
      "metadata": {
        "collapsed": false,
        "id": "xM5sZvM1_hoB"
      },
      "source": [
        "While we are plotting the samples as images, remember that our model is only going to see a 1D array of numbers."
      ]
    },
    {
      "cell_type": "markdown",
      "metadata": {
        "id": "8wsGLCHz_hoB"
      },
      "source": [
        "## Train / Test Split\n",
        "\n",
        "In order to understand how well our model performs on _new_ data, we need to split our dataset into a training set and a test set. The training set will be used to train the model, and the test set will be used to evaluate the performance of the model.\n",
        "\n",
        "Let's keep some held-out data to be able to measure the generalization performance of our model."
      ]
    },
    {
      "cell_type": "code",
      "execution_count": 11,
      "metadata": {
        "id": "SBsmRkTG_hoB"
      },
      "outputs": [],
      "source": [
        "from sklearn.model_selection import train_test_split\n",
        "# very good library to be used - train_test_split. Go back and read over.\n",
        "\n",
        "X_train, X_test, y_train, y_test = train_test_split(\n",
        "    digits.data,\n",
        "    digits.target,\n",
        "    test_size=0.2, # 20% of the data is used for testing\n",
        "    random_state=42 # Providing a value here means getting the same \"random\" split every time\n",
        ")\n",
        "\n",
        "# sometimes into 3 groups, train, validate (observe and go back to optimize),test"
      ]
    },
    {
      "cell_type": "markdown",
      "metadata": {
        "collapsed": false,
        "id": "2rwO8wmS_hoB"
      },
      "source": [
        "Let's confirm that the data has been split correctly:"
      ]
    },
    {
      "cell_type": "code",
      "execution_count": 12,
      "metadata": {
        "colab": {
          "base_uri": "https://localhost:8080/"
        },
        "id": "qThlSEKl_hoB",
        "outputId": "810fbecf-f9b2-4ae3-b0a4-77bff9d081f1"
      },
      "outputs": [
        {
          "output_type": "stream",
          "name": "stdout",
          "text": [
            "X_train shape: (1437, 64)\n",
            "y_train shape: (1437,)\n",
            "X_test shape: (360, 64)\n",
            "y_test shape: (360,)\n"
          ]
        }
      ],
      "source": [
        "print(f'X_train shape: {X_train.shape}')\n",
        "print(f'y_train shape: {y_train.shape}')\n",
        "print(f'X_test shape: {X_test.shape}')\n",
        "print(f'y_test shape: {y_test.shape}')"
      ]
    },
    {
      "cell_type": "markdown",
      "metadata": {
        "collapsed": false,
        "id": "FG4qpmVu_hoC"
      },
      "source": [
        "This is what we expected to see. It's always good to check as you go, to make sure that you haven't made a mistake somewhere - this is something that working in a notebook like this makes it easy to do."
      ]
    },
    {
      "cell_type": "code",
      "source": [
        "# we want to predict what type of digit it is."
      ],
      "metadata": {
        "id": "2y2NL6xsD_E9"
      },
      "execution_count": 13,
      "outputs": []
    },
    {
      "cell_type": "markdown",
      "metadata": {
        "id": "cvGL3Bw6_hoC"
      },
      "source": [
        "## Preprocessing of the Target Data\n",
        "\n",
        "The labels that we have are integers between 0 and 9. However, we want to train a neural network to classify the images into one of 10 classes. It can be a little counter-intuitive because we are dealing with numbers, but our classes are not ordinal.\n",
        "\n",
        "What do we mean by that? Let's imagine we were trying to predict the height of a building (separated into classes) from images. If a given building was actually 10m tall, and our model predicted 9m, we would consider that to be a better prediction than if it predicted 1m. This is because the classes are ordinal - there is meaning in the difference between the classes.\n",
        "\n",
        "In our case, even though we are dealing with numbers, the classes are not ordinal. If a given image is actually a 9, and our model predicts 8, we would consider that to be just as bad as if it predicted 1. This is because the classes are not ordered, and the difference between the classes is not meaningful.\n",
        "\n",
        "Because of this, we need to convert our labels from an integer value into a one-hot encoded vector. This means that each label will be represented as a vector of length 10, with a 1 in the position corresponding to the class, and 0s everywhere else. For example, the label 9 would be represented as `[0, 0, 0, 0, 0, 0, 0, 0, 0, 1]`. This is a common way of representing categorical data in machine learning. By doing this, we ensure that our model is taught the correct relationship between the classes."
      ]
    },
    {
      "cell_type": "code",
      "execution_count": 14,
      "metadata": {
        "colab": {
          "base_uri": "https://localhost:8080/"
        },
        "id": "0WO4TmI4_hoC",
        "outputId": "6df6e446-0626-4a4c-8997-76f3b18032da"
      },
      "outputs": [
        {
          "output_type": "stream",
          "name": "stdout",
          "text": [
            "Before one-hot encoding: 6\n",
            "After one-hot encoding: [0. 0. 0. 0. 0. 0. 1. 0. 0. 0.]\n"
          ]
        }
      ],
      "source": [
        "from tensorflow.keras.utils import to_categorical\n",
        "# turn categorical into vector/one-hot representation that we can use. if your label is 9, turn the last 0 into 1. This is how you encode catagorical data.\n",
        "# one hot encoding\n",
        "# vector with the same length of how many options you have (e.g. 10 in our case)\n",
        "# if your data is 1 ,you label index 1 as 1.\n",
        "# if your data is 5, you label index 5 as 1.\n",
        "\n",
        "\n",
        "print(f'Before one-hot encoding: {y_train[0]}')\n",
        "y_train = to_categorical(y_train, num_classes=10)\n",
        "y_test = to_categorical(y_test, num_classes=10)\n",
        "print(f'After one-hot encoding: {y_train[0]}')"
      ]
    },
    {
      "cell_type": "markdown",
      "metadata": {
        "id": "nwKEgIE7_hoC"
      },
      "source": [
        "## Feed Forward Neural Networks with Keras\n",
        "\n",
        "Now that we have prepared our data, it's time to build a simple neural network! In this section, we will use the Keras API to build a simple feed forward neural network. We will then train the model on the MNIST dataset, and evaluate its performance on the test set.\n",
        "\n",
        "In most modern deep learning frameworks, the process of building a model can be broken down into a few steps:\n",
        "\n",
        "- Define the model architecture: this is where we define the layers of the model, and how they are connected to each other.\n",
        "- Compile the model: this is where we define the loss function, the optimizer, and the metrics that we want to use to evaluate the model.\n",
        "- Train the model: this is where we train the model on the training data.\n",
        "\n",
        "Let's start with defining the model architecture. There are two ways to do this in Keras - the Sequential API and the Functional API. The Sequential API is the simplest way to build a model, and is suitable for most use cases. The Functional API is more flexible, and allows you to build more complex models. We will start with the Sequential API, and then we will look at the Functional API later in the course.\n",
        "\n",
        "Our simple neural network will be \"fully-connected\". This means that each neuron in a given layer is connected to every neuron in the next layer. This is also known as a \"dense\" layer. We will use the `Dense` class from Keras to define our layers."
      ]
    },
    {
      "cell_type": "code",
      "execution_count": 15,
      "metadata": {
        "colab": {
          "base_uri": "https://localhost:8080/"
        },
        "id": "F8KrkJLu_hoD",
        "outputId": "c900ebea-b92d-474c-adbe-1ef04d8d0c84"
      },
      "outputs": [
        {
          "output_type": "stream",
          "name": "stdout",
          "text": [
            "Model: \"sequential\"\n",
            "_________________________________________________________________\n",
            " Layer (type)                Output Shape              Param #   \n",
            "=================================================================\n",
            " dense (Dense)               (None, 64)                4160      \n",
            "                                                                 \n",
            " dense_1 (Dense)             (None, 64)                4160      \n",
            "                                                                 \n",
            " dense_2 (Dense)             (None, 10)                650       \n",
            "                                                                 \n",
            "=================================================================\n",
            "Total params: 8970 (35.04 KB)\n",
            "Trainable params: 8970 (35.04 KB)\n",
            "Non-trainable params: 0 (0.00 Byte)\n",
            "_________________________________________________________________\n"
          ]
        }
      ],
      "source": [
        "# define what our model architecture looks like. Use the models below.\n",
        "\n",
        "\n",
        "from tensorflow.keras.models import Sequential\n",
        "from tensorflow.keras.layers import Dense\n",
        "\n",
        "# adding multiple layers to build the computational graph, each layer tkaes input from previous.\n",
        "\n",
        "model = Sequential()\n",
        "\n",
        "# Input layer\n",
        "model.add(Dense(64, activation='relu', input_shape=(64,))) # 64 neurons, ReLU activation, input shape of 64 (8x8)\n",
        "# dense - connections - connect input with all the neurons in the hiddden layer\n",
        "# activation - where we introduce non-linearity, relu is one of the options.\n",
        "\n",
        "\n",
        "# Hidden layer\n",
        "model.add(Dense(64, activation='relu')) # 64 neurons, ReLU activation\n",
        "\n",
        "# Output layer\n",
        "model.add(Dense(10, activation='softmax')) # 10 neurons, softmax activation\n",
        "\n",
        "# softmax - changing value into a dimension of 10, the sum = 1. probabilities of each differs but should add up to 1 .\n",
        "\n",
        "model.summary() # give visualization of computaitonal graph.\n",
        "\n",
        "# 8970 is very small (compared to millions and billions)"
      ]
    },
    {
      "cell_type": "markdown",
      "metadata": {
        "collapsed": false,
        "id": "y73iLrEO_hoD"
      },
      "source": [
        "Congratulations! You have just built your first neural network with Keras. As we can confirm from the `model.summary()` output, our model has 3 layers. The first layer has 64 neurons, the second layer has 64 neurons, and the output layer has 10 neurons. The output layer uses the softmax activation function, which is commonly used for multi-class classification problems. The other layers use the ReLU activation function, which is commonly used for hidden layers in neural networks.\n",
        "\n",
        "Next, we need to compile the model. This is where we define the loss function, the optimizer, and the metrics that we want to use to evaluate the model. We will use the `compile` method of the model to do this."
      ]
    },
    {
      "cell_type": "code",
      "execution_count": 16,
      "metadata": {
        "id": "cISWPf8p_hoD"
      },
      "outputs": [],
      "source": [
        "# HOW TO OPTIMIZE?\n",
        "# 1) loss function - identify how far we are from ground truth. bigger loss, furhter you are.\n",
        "# used cross entropy\n",
        "\n",
        "#2) once you know the loss, how do you update model? back propagation, calculate derivatives and pass it back to the layers\n",
        "# and then decide how to adjust weight\n",
        "# sgd - more naive, will be explained later. (seperate into smaller batches and then do derivatives, calculate learning rate)\n",
        "\n",
        "# 3) metrics - what calculations we use to determine the model performance.\n",
        "\n",
        "\n",
        "model.compile(\n",
        "    loss='categorical_crossentropy', # Loss function\n",
        "    optimizer='sgd', # Optimizer\n",
        "    metrics=['accuracy'] # Metrics to evaluate the model\n",
        ")"
      ]
    },
    {
      "cell_type": "markdown",
      "metadata": {
        "collapsed": false,
        "id": "gpcSoYZN_hoE"
      },
      "source": [
        "Because we are predicting which class a sample belongs to, we will use the `categorical_crossentropy` function. This loss function is commonly used for multi-class classification problems.\n",
        "\n",
        "For our optimizer, we are using the standard stochastic gradient descent (SGD) algorithm. This is a simple optimizer that works well for many problems. We will look at more advanced optimizers later in the course.\n",
        "\n",
        "Finally, we are using the `accuracy` metric to evaluate the model. This is a common metric for classification problems, and it is simply the fraction of samples that are correctly classified. This is an easier metric for us to understand, but it's not quite as useful for actually training the model (for example, it doesn't tell us how \"confident\" the model is in its predictions).\n",
        "\n",
        "Now that we have (a) defined the model architecture and (b) compiled the model, we are ready to train the model. We will use the `fit` method of the model to do this."
      ]
    },
    {
      "cell_type": "code",
      "execution_count": 17,
      "metadata": {
        "colab": {
          "base_uri": "https://localhost:8080/"
        },
        "id": "ymFAx-Oy_hoE",
        "outputId": "83fe0876-ddac-4216-e071-7e028962e276"
      },
      "outputs": [
        {
          "output_type": "stream",
          "name": "stdout",
          "text": [
            "Epoch 1/5\n",
            "36/36 [==============================] - 1s 9ms/step - loss: 1.6058 - accuracy: 0.5805 - val_loss: 0.7017 - val_accuracy: 0.7778\n",
            "Epoch 2/5\n",
            "36/36 [==============================] - 0s 3ms/step - loss: 0.4640 - accuracy: 0.8590 - val_loss: 0.4211 - val_accuracy: 0.8542\n",
            "Epoch 3/5\n",
            "36/36 [==============================] - 0s 3ms/step - loss: 0.2942 - accuracy: 0.9173 - val_loss: 0.3378 - val_accuracy: 0.8889\n",
            "Epoch 4/5\n",
            "36/36 [==============================] - 0s 3ms/step - loss: 0.2266 - accuracy: 0.9347 - val_loss: 0.2691 - val_accuracy: 0.9201\n",
            "Epoch 5/5\n",
            "36/36 [==============================] - 0s 3ms/step - loss: 0.1884 - accuracy: 0.9408 - val_loss: 0.2244 - val_accuracy: 0.9340\n"
          ]
        },
        {
          "output_type": "execute_result",
          "data": {
            "text/plain": [
              "<keras.src.callbacks.History at 0x7d5d8da4a2f0>"
            ]
          },
          "metadata": {},
          "execution_count": 17
        }
      ],
      "source": [
        "# this is where the learning happens.\n",
        "\n",
        "\n",
        "\n",
        "model.fit(\n",
        "    X_train, # Training data\n",
        "    y_train, # Training labels\n",
        "    epochs=5, # Number of epochs\n",
        "    batch_size=32, # Number of samples per batch\n",
        "    validation_split=0.2 # Use 20% of the data for validation\n",
        ")"
      ]
    },
    {
      "cell_type": "code",
      "source": [
        "# as we run through iterations, decreasing loss and increasing accuracy --> optimization."
      ],
      "metadata": {
        "id": "A_sf_fVUIVy4"
      },
      "execution_count": 18,
      "outputs": []
    },
    {
      "cell_type": "markdown",
      "metadata": {
        "collapsed": false,
        "id": "qCOSM0pI_hoE"
      },
      "source": [
        "We have now trained our model! We can see that the model has been trained for 5 epochs, and the loss and accuracy have been printed for each epoch. We can also see that the model has been evaluated on the validation data at the end of each epoch. This is useful for us to see how the model is performing on data that it hasn't seen during training.\n",
        "\n",
        "Once the model is trained, it's time to evaluate the model on the test set. We can use the `evaluate` method of the model to do this. If you were building a model for a real-world application, this is the very last thing you would do, and the result here would be the figure you'd report in your paper or presentation."
      ]
    },
    {
      "cell_type": "code",
      "execution_count": 19,
      "metadata": {
        "colab": {
          "base_uri": "https://localhost:8080/"
        },
        "id": "F-PWOtry_hoE",
        "outputId": "b6bc9e41-00b3-4449-9a20-d1a1a449fbf5"
      },
      "outputs": [
        {
          "output_type": "stream",
          "name": "stdout",
          "text": [
            "12/12 [==============================] - 0s 2ms/step - loss: 0.1999 - accuracy: 0.9417\n",
            "Loss:     0.20\n",
            "Accuracy: 94.17%\n"
          ]
        }
      ],
      "source": [
        "loss, accuracy = model.evaluate(X_test, y_test)\n",
        "\n",
        "print(f'Loss:     {loss:.2f}')\n",
        "print(f'Accuracy: {accuracy*100:.2f}%')"
      ]
    },
    {
      "cell_type": "markdown",
      "metadata": {
        "collapsed": false,
        "id": "UnMww3OJ_hoE"
      },
      "source": [
        "Hopefully you have achieved an accuracy of around 95%. This is pretty good, but we can do better! In the next section, we will look at how we can improve the performance of our model by using a more advanced optimizer. But before we get there, let's do one other thing - let's look at the predictions that our model is making on the test set. When you are building a model, it's often useful to have a look at some of the examples your model is getting wrong. Sometimes this can reveal problems with the data, or it can give you ideas for how to improve your model."
      ]
    },
    {
      "cell_type": "code",
      "execution_count": 20,
      "metadata": {
        "colab": {
          "base_uri": "https://localhost:8080/",
          "height": 538
        },
        "id": "kmD7CX9S_hoF",
        "outputId": "245514bd-aefb-4a78-caa7-12e52d48b083"
      },
      "outputs": [
        {
          "output_type": "stream",
          "name": "stdout",
          "text": [
            "12/12 [==============================] - 0s 2ms/step\n"
          ]
        },
        {
          "output_type": "display_data",
          "data": {
            "text/plain": [
              "<Figure size 600x600 with 9 Axes>"
            ],
            "image/png": "[encoded data removed]"
          },
          "metadata": {}
        }
      ],
      "source": [
        "# Get the predictions for the test data\n",
        "\n",
        "# Do the prediction and look at the misclassified.\n",
        "predictions = model.predict(X_test)\n",
        "\n",
        "# Get the index of the largest probability (i.e. the predicted class)\n",
        "predicted_classes = np.argmax(predictions, axis=1)\n",
        "true_classes = np.argmax(y_test, axis=1)\n",
        "misclassified_indices = np.where(predicted_classes != true_classes)[0]\n",
        "\n",
        "# Get the misclassified samples themselves -- look at them.\n",
        "misclassified_samples = X_test[misclassified_indices]\n",
        "misclassified_labels = np.argmax(y_test[misclassified_indices], axis=1)\n",
        "\n",
        "# Pick 9 random misclassified samples\n",
        "random_indices = np.random.choice(len(misclassified_indices), 9, replace=False)\n",
        "\n",
        "fig, axes = plt.subplots(3, 3, figsize=(6, 6))\n",
        "for i, ax in enumerate(axes.flat):\n",
        "    ax.imshow(misclassified_samples[random_indices[i]].reshape(8, 8), cmap=plt.cm.gray_r, interpolation='nearest')\n",
        "    ax.set_title(f\"Pred: {predicted_classes[misclassified_indices[random_indices[i]]]}, Real: {misclassified_labels[random_indices[i]]}\")\n",
        "\n",
        "    # Removing axis labels\n",
        "    ax.set_xticks([])\n",
        "    ax.set_yticks([])\n",
        "\n",
        "plt.show()"
      ]
    },
    {
      "cell_type": "markdown",
      "metadata": {
        "collapsed": false,
        "id": "tS1JSxIp_hoF"
      },
      "source": [
        "What do you think? Would you have made the same mistakes as the model? Determining whether the mistakes are \"understandable\" is a rough way of seeing if you could improve the model further, or if this is the best you can do with the data you have."
      ]
    },
    {
      "cell_type": "markdown",
      "metadata": {
        "id": "Xu2rh1SP_hoF"
      },
      "source": [
        "### b) Exercises: Impact of the Optimizer\n",
        "\n",
        "In this section, you will play around with the optimizer and see how it affects the performance of the model. We will start with the standard SGD optimizer, and then we will look at more advanced optimizers.\n",
        "\n",
        "1. Try decreasing the learning rate of the SGD optimizer by a factor of 10, or 100. What do you observe?\n",
        "2. Try increasing the learning rate of the SGD optimizer. What happens?\n",
        "3. The SGD optimizer has a momentum parameter. In a nutshell, this parameter controls how much the gradient from the previous step affects the current step. Try enabling momentum in the SGD optimizer with a value of 0.9. What happens?\n",
        "  \n",
        "**Notes**:\n",
        "\n",
        "The keras API documentation is available at:\n",
        "\n",
        "https://www.tensorflow.org/api_docs/python/tf/keras\n",
        "\n",
        "It is also possible to learn more about the parameters of a class by using the question mark: type and evaluate:\n",
        "\n",
        "```python\n",
        "optimizers.SGD?\n",
        "```\n",
        "\n",
        "in a jupyter notebook cell.\n",
        "\n",
        "It is also possible to type the beginning of a function call / constructor and type \"shift-tab\" after the opening paren:\n",
        "\n",
        "```python\n",
        "optimizers.SGD(<shift-tab>\n",
        "```"
      ]
    },
    {
      "cell_type": "code",
      "source": [
        "# decreate learning rate ( how bigs are the steps as we update ), big LR - big steps"
      ],
      "metadata": {
        "id": "YYn-2c2UHcOm"
      },
      "execution_count": 21,
      "outputs": []
    },
    {
      "cell_type": "code",
      "execution_count": 22,
      "metadata": {
        "id": "j2Qdq3e5_hoF"
      },
      "outputs": [],
      "source": [
        "# Your code here - copy the relevant parts from the previous section and add more cells as needed\n",
        "\n",
        "import matplotlib.pyplot as plt\n",
        "import numpy as np\n",
        "\n",
        "from sklearn.datasets import load_digits\n",
        "\n",
        "digits = load_digits()"
      ]
    },
    {
      "cell_type": "markdown",
      "metadata": {
        "id": "t9P6s5fz_hoF"
      },
      "source": [
        "Next, let's try a more advanced optimizer. Adam is likely the most popular optimizer for deep learning. It is an adaptive learning rate optimizer, which means that it automatically adjusts the learning rate based on how the training is going. This can be very useful, as it means that we don't need to manually tune the learning rate. Let's see how it performs on our model.\n",
        "\n",
        "\n",
        "1. Replace the SGD optimizer by the Adam optimizer from keras and run it\n",
        "  with the default parameters.\n",
        "\n",
        "2. Add another hidden layer with ReLU activation and 64 neurons. Does it improve the model performance?\n"
      ]
    },
    {
      "cell_type": "code",
      "execution_count": 23,
      "metadata": {
        "colab": {
          "base_uri": "https://localhost:8080/"
        },
        "id": "T0qkLoum_hoG",
        "outputId": "8189cf0d-c90d-4f27-c479-5b734a40173f"
      },
      "outputs": [
        {
          "output_type": "stream",
          "name": "stdout",
          "text": [
            "Model: \"sequential_1\"\n",
            "_________________________________________________________________\n",
            " Layer (type)                Output Shape              Param #   \n",
            "=================================================================\n",
            " dense_3 (Dense)             (None, 64)                4160      \n",
            "                                                                 \n",
            " dense_4 (Dense)             (None, 64)                4160      \n",
            "                                                                 \n",
            " dense_5 (Dense)             (None, 10)                650       \n",
            "                                                                 \n",
            "=================================================================\n",
            "Total params: 8970 (35.04 KB)\n",
            "Trainable params: 8970 (35.04 KB)\n",
            "Non-trainable params: 0 (0.00 Byte)\n",
            "_________________________________________________________________\n",
            "Epoch 1/15\n",
            "45/45 [==============================] - 1s 2ms/step - loss: 3.4160 - accuracy: 0.1663\n",
            "Epoch 2/15\n",
            "45/45 [==============================] - 0s 3ms/step - loss: 1.9391 - accuracy: 0.3612\n",
            "Epoch 3/15\n",
            "45/45 [==============================] - 0s 4ms/step - loss: 1.4341 - accuracy: 0.5212\n",
            "Epoch 4/15\n",
            "45/45 [==============================] - 0s 3ms/step - loss: 1.1502 - accuracy: 0.6180\n",
            "Epoch 5/15\n",
            "45/45 [==============================] - 0s 3ms/step - loss: 0.9672 - accuracy: 0.6855\n",
            "Epoch 6/15\n",
            "45/45 [==============================] - 0s 3ms/step - loss: 0.8356 - accuracy: 0.7488\n",
            "Epoch 7/15\n",
            "45/45 [==============================] - 0s 3ms/step - loss: 0.7368 - accuracy: 0.7822\n",
            "Epoch 8/15\n",
            "45/45 [==============================] - 0s 3ms/step - loss: 0.6596 - accuracy: 0.8107\n",
            "Epoch 9/15\n",
            "45/45 [==============================] - 0s 3ms/step - loss: 0.5977 - accuracy: 0.8316\n",
            "Epoch 10/15\n",
            "45/45 [==============================] - 0s 3ms/step - loss: 0.5453 - accuracy: 0.8532\n",
            "Epoch 11/15\n",
            "45/45 [==============================] - 0s 3ms/step - loss: 0.5044 - accuracy: 0.8650\n",
            "Epoch 12/15\n",
            "45/45 [==============================] - 0s 3ms/step - loss: 0.4675 - accuracy: 0.8747\n",
            "Epoch 13/15\n",
            "45/45 [==============================] - 0s 2ms/step - loss: 0.4375 - accuracy: 0.8838\n",
            "Epoch 14/15\n",
            "45/45 [==============================] - 0s 2ms/step - loss: 0.4109 - accuracy: 0.8914\n",
            "Epoch 15/15\n",
            "45/45 [==============================] - 0s 2ms/step - loss: 0.3868 - accuracy: 0.8991\n"
          ]
        }
      ],
      "source": [
        "# Your code here\n",
        "from tensorflow.keras.models import Sequential\n",
        "from tensorflow.keras.layers import Dense\n",
        "\n",
        "from tensorflow.keras import optimizers\n",
        "\n",
        "# adding multiple layers to build the computational graph, each layer tkaes input from previous.\n",
        "\n",
        "model = Sequential()\n",
        "\n",
        "# Input layer\n",
        "model.add(Dense(64, activation='relu', input_shape=(64,))) # 64 neurons, ReLU activation, input shape of 64 (8x8)\n",
        "\n",
        "\n",
        "\n",
        "# Hidden layer\n",
        "model.add(Dense(64, activation='relu')) # 64 neurons, ReLU activation\n",
        "\n",
        "# Output layer\n",
        "model.add(Dense(10, activation='softmax')) # 10 neurons, softmax activation\n",
        "\n",
        "# softmax - changing value into a dimension of 10, the sum = 1. probabilities of each differs but should add up to 1 .\n",
        "\n",
        "model.summary()\n",
        "\n",
        "\n",
        "model.compile(optimizer=optimizers.SGD(learning_rate=0.001),  # decrease learning rate\n",
        "              loss='categorical_crossentropy', metrics=['accuracy'])\n",
        "\n",
        "history = model.fit (X_train, y_train, epochs= 15, batch_size = 32)"
      ]
    },
    {
      "cell_type": "code",
      "source": [
        "# Smaller LR,  slower to increase accuracy rate, slower to update results\n",
        "# larger LR, jumping back and forth. - not necessarily better.\n",
        "# Best LR, you don't know until you try."
      ],
      "metadata": {
        "id": "gNSPef4ILzl5"
      },
      "execution_count": 24,
      "outputs": []
    },
    {
      "cell_type": "code",
      "source": [
        "# momentum - copy the block, add momentum = 0.9 and see how it works. (after LR)\n",
        "# remember size and direction of the steps, then decide where the next iteration should be? e.g. if I've taken bigger steps, then the next step will be bigger.\n",
        "# iterations converge faster, w/ bigger steps."
      ],
      "metadata": {
        "id": "0g1tL7LcInGf"
      },
      "execution_count": 25,
      "outputs": []
    },
    {
      "cell_type": "markdown",
      "metadata": {
        "id": "clY9MtIO_hoG"
      },
      "source": [
        "### Exercises: Forward Pass and Generalization\n",
        "\n",
        "Let's look in more detail at how the model makes predictions on the test set. We will walk through each step of making predictions, examining exactly what's going on.\n",
        "\n",
        "To start, we will apply our model to the test set, and look at what we get as output:"
      ]
    },
    {
      "cell_type": "code",
      "execution_count": 26,
      "metadata": {
        "colab": {
          "base_uri": "https://localhost:8080/"
        },
        "id": "oah-4nc__hoG",
        "outputId": "923511e4-a6f3-4228-b35d-76e3b8896e11"
      },
      "outputs": [
        {
          "output_type": "execute_result",
          "data": {
            "text/plain": [
              "<tf.Tensor: shape=(5, 10), dtype=float32, numpy=\n",
              "array([[9.0427295e-04, 5.3380253e-03, 2.2008616e-04, 1.5482913e-04,\n",
              "        2.8645331e-03, 3.1071776e-03, 9.8341745e-01, 2.1966321e-04,\n",
              "        2.7073966e-03, 1.0665467e-03],\n",
              "       [2.8527281e-03, 1.3570050e-02, 7.4770064e-03, 4.3354374e-01,\n",
              "        2.3719154e-03, 4.5681730e-02, 1.4290148e-04, 2.9998322e-03,\n",
              "        1.8939385e-02, 4.7242078e-01],\n",
              "       [3.5493813e-05, 1.2076680e-03, 5.7779802e-03, 9.5531452e-01,\n",
              "        5.4886308e-04, 1.1102750e-03, 3.6328717e-04, 3.0927430e-04,\n",
              "        1.5765944e-02, 1.9566672e-02],\n",
              "       [1.7371455e-03, 8.2226709e-02, 3.3100357e-03, 7.0996489e-04,\n",
              "        5.0918916e-03, 2.2295285e-02, 1.3884552e-05, 8.2992983e-01,\n",
              "        1.5388163e-02, 3.9297022e-02],\n",
              "       [3.1434437e-03, 7.6337038e-03, 8.3318317e-01, 4.1509192e-02,\n",
              "        8.0505162e-03, 6.7540114e-03, 6.7716027e-03, 1.9374544e-03,\n",
              "        7.8267217e-02, 1.2749695e-02]], dtype=float32)>"
            ]
          },
          "metadata": {},
          "execution_count": 26
        }
      ],
      "source": [
        "predictions_tf = model(X_test)\n",
        "predictions_tf[:5]"
      ]
    },
    {
      "cell_type": "code",
      "execution_count": 27,
      "metadata": {
        "colab": {
          "base_uri": "https://localhost:8080/"
        },
        "id": "6CqErsYH_hoG",
        "outputId": "34007517-e89a-419e-9230-c2c10edd03fa"
      },
      "outputs": [
        {
          "output_type": "execute_result",
          "data": {
            "text/plain": [
              "(tensorflow.python.framework.ops.EagerTensor, TensorShape([360, 10]))"
            ]
          },
          "metadata": {},
          "execution_count": 27
        }
      ],
      "source": [
        "type(predictions_tf), predictions_tf.shape"
      ]
    },
    {
      "cell_type": "markdown",
      "metadata": {
        "id": "ku9Ej6th_hoG"
      },
      "source": [
        "The raw output of the model is a tensor of shape `(360, 10)`. This means that we have 360 samples, and for each sample we have 10 values. Each of these values represents the probability that the sample belongs to a given class. This means that we have 10 probabilities for each sample, and the sum of these probabilities is 1. We can confirm this by summing the probabilities for each sample:"
      ]
    },
    {
      "cell_type": "code",
      "execution_count": 28,
      "metadata": {
        "colab": {
          "base_uri": "https://localhost:8080/"
        },
        "id": "GFX_buHY_hoL",
        "outputId": "477df6d3-220f-4984-a1ea-d80bf6a5da79"
      },
      "outputs": [
        {
          "output_type": "execute_result",
          "data": {
            "text/plain": [
              "<tf.Tensor: shape=(5,), dtype=float32, numpy=\n",
              "array([0.99999994, 1.0000001 , 1.        , 0.9999999 , 1.        ],\n",
              "      dtype=float32)>"
            ]
          },
          "metadata": {},
          "execution_count": 28
        }
      ],
      "source": [
        "import tensorflow as tf\n",
        "\n",
        "tf.reduce_sum(predictions_tf, axis=1)[:5]"
      ]
    },
    {
      "cell_type": "markdown",
      "metadata": {
        "collapsed": false,
        "id": "Ax-7l1uJ_hoM"
      },
      "source": [
        "...okay, there might be a small rounding error here and there. This is to do with how floating point numbers are represented in computers, and it's not something we need to worry about for now."
      ]
    },
    {
      "cell_type": "markdown",
      "metadata": {
        "id": "YObG_P7o_hoM"
      },
      "source": [
        "We can also extract the label with the highest probability using the tensorflow API:"
      ]
    },
    {
      "cell_type": "code",
      "execution_count": 29,
      "metadata": {
        "colab": {
          "base_uri": "https://localhost:8080/"
        },
        "id": "51fH59El_hoN",
        "outputId": "f3ee4100-50af-4fa6-e390-26b9207bde9b"
      },
      "outputs": [
        {
          "output_type": "execute_result",
          "data": {
            "text/plain": [
              "<tf.Tensor: shape=(5,), dtype=int64, numpy=array([6, 9, 3, 7, 2])>"
            ]
          },
          "metadata": {},
          "execution_count": 29
        }
      ],
      "source": [
        "predicted_labels_tf = tf.argmax(predictions_tf, axis=1)\n",
        "predicted_labels_tf[:5]"
      ]
    },
    {
      "cell_type": "markdown",
      "metadata": {
        "collapsed": false,
        "id": "q6nO7bhf_hoN"
      },
      "source": [
        "One helpful aspect of this approach is that we don't just get the prediction, but also a sense of how confident the model is in its prediction. To see this in practice, let's take a look at some of the predictions the model is highly confident about (i.e. a lot of the probability mass is on one class):"
      ]
    },
    {
      "cell_type": "code",
      "execution_count": 30,
      "metadata": {
        "colab": {
          "base_uri": "https://localhost:8080/",
          "height": 521
        },
        "id": "Ed_U2fgB_hoO",
        "outputId": "ae1e7442-a612-4fbc-a79a-00c1e31a0c25"
      },
      "outputs": [
        {
          "output_type": "display_data",
          "data": {
            "text/plain": [
              "<Figure size 600x600 with 9 Axes>"
            ],
            "image/png": "[encoded data removed]"
          },
          "metadata": {}
        }
      ],
      "source": [
        "# Get the values corresponding to the predicted labels for each sample\n",
        "predicted_values_tf = tf.reduce_max(predictions_tf, axis=1)\n",
        "\n",
        "# Get the indices of the samples with the highest predicted values\n",
        "most_confident_indices_tf = tf.argsort(predicted_values_tf, direction='DESCENDING').numpy()[:9]\n",
        "\n",
        "# Get the 9 most confident samples\n",
        "most_confident_samples_tf = X_test[most_confident_indices_tf]\n",
        "\n",
        "# Get the true labels for the 9 most confident samples\n",
        "most_confident_labels_tf = np.argmax(y_test[most_confident_indices_tf], axis=1)\n",
        "\n",
        "# Plot the 9 most confident samples\n",
        "fig, axes = plt.subplots(3, 3, figsize=(6, 6))\n",
        "\n",
        "for i, ax in enumerate(axes.flat):\n",
        "    ax.imshow(most_confident_samples_tf[i].reshape(8, 8), cmap=plt.cm.gray_r, interpolation='nearest')\n",
        "    ax.set_title(f\"{most_confident_labels_tf[i]}\")\n",
        "\n",
        "    # Removing axis labels\n",
        "    ax.set_xticks([])\n",
        "    ax.set_yticks([])\n",
        "\n",
        "plt.show()"
      ]
    },
    {
      "cell_type": "markdown",
      "metadata": {
        "id": "nRFelnHM_hoP"
      },
      "source": [
        "## Impact of Initialization\n",
        "\n",
        "Let's study the impact of a bad initialization when training\n",
        "a deep feed forward network.\n",
        "\n",
        "By default, Keras dense layers use the \"Glorot Uniform\" initialization\n",
        "strategy to initialize the weight matrices:\n",
        "\n",
        "- each weight coefficient is randomly sampled from [-scale, scale]\n",
        "- scale is proportional to $\\frac{1}{\\sqrt{n_{in} + n_{out}}}$\n",
        "\n",
        "This strategy is known to work well to initialize deep neural networks\n",
        "with \"tanh\" or \"relu\" activation functions and then trained with\n",
        "standard SGD.\n",
        "\n",
        "To assess the impact of initialization let us plug an alternative init\n",
        "scheme into a 2 hidden layers networks with \"tanh\" activations.\n",
        "For the sake of the example let's use normal distributed weights\n",
        "with a manually adjustable scale (standard deviation) and see the\n",
        "impact the scale value:"
      ]
    },
    {
      "cell_type": "code",
      "execution_count": 31,
      "metadata": {
        "id": "OMUwCrv8_hoP"
      },
      "outputs": [],
      "source": [
        "from tensorflow.keras import initializers\n",
        "from tensorflow.keras import optimizers\n",
        "\n",
        "\n",
        "\n",
        "input_dim = 64\n",
        "hidden_dim = 64\n",
        "output_dim = 10\n",
        "\n",
        "# recommended weight to initialize with: to randomly select from normal distribution\n",
        "# define initializer to be truncated normal distribution w/ below fn, choose stddev and random seed\n",
        "normal_init = initializers.TruncatedNormal(stddev=0.01, seed=42)\n",
        "\n",
        "model = Sequential()\n",
        "model.add(Dense(hidden_dim, input_dim=input_dim, activation=\"tanh\", #\n",
        "                kernel_initializer=normal_init)) # this time we are adding kernel initializer to use normal distribution\n",
        "model.add(Dense(hidden_dim, activation=\"tanh\",\n",
        "                kernel_initializer=normal_init))\n",
        "model.add(Dense(output_dim, activation=\"softmax\",\n",
        "                kernel_initializer=normal_init))\n",
        "\n",
        "model.compile(optimizer=optimizers.SGD(learning_rate=0.001), # specify the learning rate\n",
        "              loss='categorical_crossentropy', metrics=['accuracy'])"
      ]
    },
    {
      "cell_type": "code",
      "execution_count": 32,
      "metadata": {
        "colab": {
          "base_uri": "https://localhost:8080/"
        },
        "id": "_WU0v4yS_hoQ",
        "outputId": "5874ab0c-af9c-478e-c958-d726d656ffb9"
      },
      "outputs": [
        {
          "output_type": "execute_result",
          "data": {
            "text/plain": [
              "[<keras.src.layers.core.dense.Dense at 0x7d5d8b63fe20>,\n",
              " <keras.src.layers.core.dense.Dense at 0x7d5d7bbc8fa0>,\n",
              " <keras.src.layers.core.dense.Dense at 0x7d5d7bbca590>]"
            ]
          },
          "metadata": {},
          "execution_count": 32
        }
      ],
      "source": [
        "model.layers"
      ]
    },
    {
      "cell_type": "markdown",
      "metadata": {
        "id": "-NUdx9xz_hoQ"
      },
      "source": [
        "Let's have a look at the parameters of the first layer after initialization but before any training has happened:"
      ]
    },
    {
      "cell_type": "code",
      "execution_count": 33,
      "metadata": {
        "colab": {
          "base_uri": "https://localhost:8080/"
        },
        "id": "X7WLJhY4_hoQ",
        "outputId": "a685fb80-5eca-46bc-f590-d6b36d29888c"
      },
      "outputs": [
        {
          "output_type": "execute_result",
          "data": {
            "text/plain": [
              "[<tf.Variable 'dense_6/kernel:0' shape=(64, 64) dtype=float32, numpy=\n",
              " array([[ 0.00015817, -0.01590087,  0.00103594, ...,  0.00962818,\n",
              "          0.00624957,  0.00994726],\n",
              "        [ 0.0081879 ,  0.00756818, -0.00668142, ...,  0.01084459,\n",
              "         -0.00317478, -0.00549116],\n",
              "        [-0.00086618, -0.00287623,  0.00391693, ...,  0.00064558,\n",
              "         -0.00420471,  0.00174566],\n",
              "        ...,\n",
              "        [-0.0029006 , -0.0091218 ,  0.00804327, ..., -0.01407086,\n",
              "          0.00952832, -0.01348555],\n",
              "        [ 0.00375078,  0.00967842,  0.00098119, ..., -0.00413454,\n",
              "          0.01695471,  0.00025196],\n",
              "        [ 0.00459809,  0.01223094, -0.00213172, ...,  0.01246831,\n",
              "         -0.00714749, -0.00868595]], dtype=float32)>,\n",
              " <tf.Variable 'dense_6/bias:0' shape=(64,) dtype=float32, numpy=\n",
              " array([0., 0., 0., 0., 0., 0., 0., 0., 0., 0., 0., 0., 0., 0., 0., 0., 0.,\n",
              "        0., 0., 0., 0., 0., 0., 0., 0., 0., 0., 0., 0., 0., 0., 0., 0., 0.,\n",
              "        0., 0., 0., 0., 0., 0., 0., 0., 0., 0., 0., 0., 0., 0., 0., 0., 0.,\n",
              "        0., 0., 0., 0., 0., 0., 0., 0., 0., 0., 0., 0., 0.], dtype=float32)>]"
            ]
          },
          "metadata": {},
          "execution_count": 33
        }
      ],
      "source": [
        "model.layers[0].weights\n",
        "# weights\n",
        "# biases are all 0"
      ]
    },
    {
      "cell_type": "code",
      "execution_count": 34,
      "metadata": {
        "colab": {
          "base_uri": "https://localhost:8080/"
        },
        "id": "61Poxd0i_hoQ",
        "outputId": "7730962d-5402-41fe-8036-bf95129d5b4a"
      },
      "outputs": [
        {
          "output_type": "execute_result",
          "data": {
            "text/plain": [
              "array([[ 0.00015817, -0.01590087,  0.00103594, ...,  0.00962818,\n",
              "         0.00624957,  0.00994726],\n",
              "       [ 0.0081879 ,  0.00756818, -0.00668142, ...,  0.01084459,\n",
              "        -0.00317478, -0.00549116],\n",
              "       [-0.00086618, -0.00287623,  0.00391693, ...,  0.00064558,\n",
              "        -0.00420471,  0.00174566],\n",
              "       ...,\n",
              "       [-0.0029006 , -0.0091218 ,  0.00804327, ..., -0.01407086,\n",
              "         0.00952832, -0.01348555],\n",
              "       [ 0.00375078,  0.00967842,  0.00098119, ..., -0.00413454,\n",
              "         0.01695471,  0.00025196],\n",
              "       [ 0.00459809,  0.01223094, -0.00213172, ...,  0.01246831,\n",
              "        -0.00714749, -0.00868595]], dtype=float32)"
            ]
          },
          "metadata": {},
          "execution_count": 34
        }
      ],
      "source": [
        "w = model.layers[0].weights[0].numpy()\n",
        "w"
      ]
    },
    {
      "cell_type": "code",
      "execution_count": 35,
      "metadata": {
        "colab": {
          "base_uri": "https://localhost:8080/"
        },
        "id": "kYPcATWi_hoR",
        "outputId": "ecea703e-07cd-49af-e1ea-cddfb214bc9e"
      },
      "outputs": [
        {
          "output_type": "execute_result",
          "data": {
            "text/plain": [
              "0.008835949"
            ]
          },
          "metadata": {},
          "execution_count": 35
        }
      ],
      "source": [
        "w.std()"
      ]
    },
    {
      "cell_type": "code",
      "execution_count": 36,
      "metadata": {
        "colab": {
          "base_uri": "https://localhost:8080/"
        },
        "id": "SfftaIUQ_hoR",
        "outputId": "f7983d80-ed62-4f94-c745-2242082c4cc2"
      },
      "outputs": [
        {
          "output_type": "execute_result",
          "data": {
            "text/plain": [
              "array([0., 0., 0., 0., 0., 0., 0., 0., 0., 0., 0., 0., 0., 0., 0., 0., 0.,\n",
              "       0., 0., 0., 0., 0., 0., 0., 0., 0., 0., 0., 0., 0., 0., 0., 0., 0.,\n",
              "       0., 0., 0., 0., 0., 0., 0., 0., 0., 0., 0., 0., 0., 0., 0., 0., 0.,\n",
              "       0., 0., 0., 0., 0., 0., 0., 0., 0., 0., 0., 0., 0.], dtype=float32)"
            ]
          },
          "metadata": {},
          "execution_count": 36
        }
      ],
      "source": [
        "b = model.layers[0].weights[1].numpy()\n",
        "b # this is how you get values"
      ]
    },
    {
      "cell_type": "code",
      "execution_count": 37,
      "metadata": {
        "colab": {
          "base_uri": "https://localhost:8080/",
          "height": 890
        },
        "id": "jXcDFRh8_hoR",
        "outputId": "652c701c-aad7-40f0-bb36-a4ebf2ab54f0"
      },
      "outputs": [
        {
          "output_type": "stream",
          "name": "stdout",
          "text": [
            "Epoch 1/15\n",
            "45/45 [==============================] - 1s 2ms/step - loss: 2.3027 - accuracy: 0.1301\n",
            "Epoch 2/15\n",
            "45/45 [==============================] - 0s 2ms/step - loss: 2.3026 - accuracy: 0.1273\n",
            "Epoch 3/15\n",
            "45/45 [==============================] - 0s 2ms/step - loss: 2.3024 - accuracy: 0.1371\n",
            "Epoch 4/15\n",
            "45/45 [==============================] - 0s 2ms/step - loss: 2.3023 - accuracy: 0.1406\n",
            "Epoch 5/15\n",
            "45/45 [==============================] - 0s 2ms/step - loss: 2.3022 - accuracy: 0.1454\n",
            "Epoch 6/15\n",
            "45/45 [==============================] - 0s 2ms/step - loss: 2.3021 - accuracy: 0.1531\n",
            "Epoch 7/15\n",
            "45/45 [==============================] - 0s 2ms/step - loss: 2.3019 - accuracy: 0.1775\n",
            "Epoch 8/15\n",
            "45/45 [==============================] - 0s 2ms/step - loss: 2.3018 - accuracy: 0.1809\n",
            "Epoch 9/15\n",
            "45/45 [==============================] - 0s 2ms/step - loss: 2.3017 - accuracy: 0.1879\n",
            "Epoch 10/15\n",
            "45/45 [==============================] - 0s 2ms/step - loss: 2.3015 - accuracy: 0.1921\n",
            "Epoch 11/15\n",
            "45/45 [==============================] - 0s 2ms/step - loss: 2.3014 - accuracy: 0.1969\n",
            "Epoch 12/15\n",
            "45/45 [==============================] - 0s 2ms/step - loss: 2.3013 - accuracy: 0.2025\n",
            "Epoch 13/15\n",
            "45/45 [==============================] - 0s 2ms/step - loss: 2.3011 - accuracy: 0.2053\n",
            "Epoch 14/15\n",
            "45/45 [==============================] - 0s 2ms/step - loss: 2.3010 - accuracy: 0.2067\n",
            "Epoch 15/15\n",
            "45/45 [==============================] - 0s 2ms/step - loss: 2.3008 - accuracy: 0.2067\n"
          ]
        },
        {
          "output_type": "display_data",
          "data": {
            "text/plain": [
              "<Figure size 1200x400 with 1 Axes>"
            ],
            "image/png": "[encoded data removed]"
          },
          "metadata": {}
        }
      ],
      "source": [
        "history = model.fit(X_train, y_train, epochs=15, batch_size=32)\n",
        "\n",
        "plt.figure(figsize=(12, 4))\n",
        "plt.plot(history.history['loss'], label=\"Truncated Normal init\")\n",
        "plt.legend();"
      ]
    },
    {
      "cell_type": "markdown",
      "metadata": {
        "id": "jzzffydw_hoR"
      },
      "source": [
        "Once the model has been fit, the weights have been updated and notably the biases are no longer 0:"
      ]
    },
    {
      "cell_type": "code",
      "source": [
        "# shoudl see that loss is dropping. weights and biases are being updated."
      ],
      "metadata": {
        "id": "N8fQ1SK5KEpN"
      },
      "execution_count": null,
      "outputs": []
    },
    {
      "cell_type": "code",
      "execution_count": 38,
      "metadata": {
        "colab": {
          "base_uri": "https://localhost:8080/"
        },
        "id": "la-fpuwC_hoR",
        "outputId": "7090ab2b-0c2b-43e3-e9cc-150f38eae7aa"
      },
      "outputs": [
        {
          "output_type": "execute_result",
          "data": {
            "text/plain": [
              "[<tf.Variable 'dense_6/kernel:0' shape=(64, 64) dtype=float32, numpy=\n",
              " array([[ 0.00015817, -0.01590087,  0.00103594, ...,  0.00962818,\n",
              "          0.00624957,  0.00994726],\n",
              "        [ 0.00823468,  0.00754569, -0.00669491, ...,  0.01087146,\n",
              "         -0.00323535, -0.0054931 ],\n",
              "        [-0.00039941, -0.0031658 ,  0.00383548, ...,  0.00081603,\n",
              "         -0.00481918,  0.00182706],\n",
              "        ...,\n",
              "        [-0.00220178, -0.00933025,  0.00831536, ..., -0.01428926,\n",
              "          0.01009832, -0.01442335],\n",
              "        [ 0.00425696,  0.00970594,  0.00105411, ..., -0.00420248,\n",
              "          0.0170994 , -0.00027357],\n",
              "        [ 0.00475984,  0.01234243, -0.00213166, ...,  0.01245942,\n",
              "         -0.00708479, -0.00880779]], dtype=float32)>,\n",
              " <tf.Variable 'dense_6/bias:0' shape=(64,) dtype=float32, numpy=\n",
              " array([ 3.1172825e-05, -1.8993636e-05, -2.2875863e-06,  1.2328874e-06,\n",
              "         1.6775750e-05, -2.0354471e-06,  2.0944219e-05,  9.0624608e-06,\n",
              "         1.1545211e-06, -1.1525208e-05,  9.3023446e-06, -1.8631532e-05,\n",
              "         1.9016343e-06, -2.1813437e-06,  6.4338979e-06, -7.2566822e-06,\n",
              "        -1.7495180e-05,  2.9270255e-05, -1.4003496e-05,  1.5882613e-05,\n",
              "        -5.1277357e-06,  7.2002263e-06, -6.1332871e-06, -1.4197363e-05,\n",
              "         7.6627321e-06,  3.3134058e-06,  1.6457441e-05, -4.3930881e-06,\n",
              "        -1.0732571e-06, -4.9843824e-05,  1.7770637e-06, -1.4584181e-06,\n",
              "         1.8241508e-05,  1.1932144e-05, -5.1040097e-06, -2.4601792e-05,\n",
              "         3.0105961e-05, -7.2568037e-06, -5.1056868e-06, -5.4077577e-06,\n",
              "        -1.2844455e-05,  1.1364940e-05,  1.0649629e-05,  3.4286459e-06,\n",
              "         1.5628274e-07,  3.8824896e-06, -6.7224664e-06,  7.3812798e-06,\n",
              "        -2.1460206e-05,  2.5443767e-05,  1.0297128e-06, -7.5757839e-06,\n",
              "         8.8667057e-06,  9.4602428e-06,  8.5574120e-06,  5.4875331e-06,\n",
              "         8.6934142e-06,  8.4303510e-06, -1.3317824e-05, -2.1479054e-05,\n",
              "         5.3270996e-06, -1.1514849e-05, -3.9627075e-06, -2.2021046e-05],\n",
              "       dtype=float32)>]"
            ]
          },
          "metadata": {},
          "execution_count": 38
        }
      ],
      "source": [
        "model.layers[0].weights"
      ]
    },
    {
      "cell_type": "markdown",
      "metadata": {
        "id": "cWVBTeoz_hoS"
      },
      "source": [
        "#### Questions:\n",
        "\n",
        "- Try the following initialization schemes and see whether\n",
        "  the SGD algorithm can successfully train the network or\n",
        "  not:\n",
        "  \n",
        "  - a very small e.g. `stddev=1e-3`\n",
        "  - a larger scale e.g. `stddev=1` or `10`\n",
        "  - initialize all weights to 0 (constant initialization)\n",
        "  \n",
        "- What do you observe? Can you find an explanation for those\n",
        "  outcomes?\n",
        "\n",
        "- Are more advanced solvers such as SGD with momentum or Adam able\n",
        "  to deal better with such bad initializations?"
      ]
    },
    {
      "cell_type": "code",
      "execution_count": 40,
      "metadata": {
        "colab": {
          "base_uri": "https://localhost:8080/"
        },
        "id": "qbNJha_9_hoS",
        "outputId": "3edbe896-e8ed-4e9f-9a68-b538685e36d8"
      },
      "outputs": [
        {
          "output_type": "stream",
          "name": "stdout",
          "text": [
            "\n",
            "Training moel with stddev = 0.001\n",
            "Epoch 1/15\n",
            "45/45 [==============================] - 1s 3ms/step - loss: 2.3035 - accuracy: 0.0974\n",
            "Epoch 2/15\n",
            "45/45 [==============================] - 0s 4ms/step - loss: 2.3033 - accuracy: 0.0926\n",
            "Epoch 3/15\n",
            "45/45 [==============================] - 0s 4ms/step - loss: 2.3033 - accuracy: 0.1072\n",
            "Epoch 4/15\n",
            "45/45 [==============================] - 0s 3ms/step - loss: 2.3033 - accuracy: 0.1030\n",
            "Epoch 5/15\n",
            "45/45 [==============================] - 0s 4ms/step - loss: 2.3031 - accuracy: 0.1072\n",
            "Epoch 6/15\n",
            "45/45 [==============================] - 0s 4ms/step - loss: 2.3031 - accuracy: 0.1072\n",
            "Epoch 7/15\n",
            "45/45 [==============================] - 0s 5ms/step - loss: 2.3030 - accuracy: 0.1072\n",
            "Epoch 8/15\n",
            "45/45 [==============================] - 0s 6ms/step - loss: 2.3032 - accuracy: 0.1058\n",
            "Epoch 9/15\n",
            "45/45 [==============================] - 0s 7ms/step - loss: 2.3018 - accuracy: 0.1065\n",
            "Epoch 10/15\n",
            "45/45 [==============================] - 0s 6ms/step - loss: 2.1343 - accuracy: 0.1802\n",
            "Epoch 11/15\n",
            "45/45 [==============================] - 0s 5ms/step - loss: 1.7916 - accuracy: 0.1802\n",
            "Epoch 12/15\n",
            "45/45 [==============================] - 0s 4ms/step - loss: 1.6536 - accuracy: 0.2276\n",
            "Epoch 13/15\n",
            "45/45 [==============================] - 0s 7ms/step - loss: 1.5019 - accuracy: 0.3257\n",
            "Epoch 14/15\n",
            "45/45 [==============================] - 0s 5ms/step - loss: 1.2428 - accuracy: 0.4934\n",
            "Epoch 15/15\n",
            "45/45 [==============================] - 0s 9ms/step - loss: 0.9524 - accuracy: 0.6284\n",
            "\n",
            "Training moel with stddev = 1\n",
            "Epoch 1/15\n",
            "45/45 [==============================] - 1s 3ms/step - loss: 2.3037 - accuracy: 0.0967\n",
            "Epoch 2/15\n",
            "45/45 [==============================] - 0s 3ms/step - loss: 2.3033 - accuracy: 0.1058\n",
            "Epoch 3/15\n",
            "45/45 [==============================] - 0s 2ms/step - loss: 2.3031 - accuracy: 0.0898\n",
            "Epoch 4/15\n",
            "45/45 [==============================] - 0s 2ms/step - loss: 2.3033 - accuracy: 0.1065\n",
            "Epoch 5/15\n",
            "45/45 [==============================] - 0s 2ms/step - loss: 2.3031 - accuracy: 0.1065\n",
            "Epoch 6/15\n",
            "45/45 [==============================] - 0s 2ms/step - loss: 2.3031 - accuracy: 0.1072\n",
            "Epoch 7/15\n",
            "45/45 [==============================] - 0s 2ms/step - loss: 2.3030 - accuracy: 0.1058\n",
            "Epoch 8/15\n",
            "45/45 [==============================] - 0s 2ms/step - loss: 2.3028 - accuracy: 0.1072\n",
            "Epoch 9/15\n",
            "45/45 [==============================] - 0s 2ms/step - loss: 2.3019 - accuracy: 0.1030\n",
            "Epoch 10/15\n",
            "45/45 [==============================] - 0s 2ms/step - loss: 2.1116 - accuracy: 0.1781\n",
            "Epoch 11/15\n",
            "45/45 [==============================] - 0s 2ms/step - loss: 1.7865 - accuracy: 0.2046\n",
            "Epoch 12/15\n",
            "45/45 [==============================] - 0s 2ms/step - loss: 1.6208 - accuracy: 0.2596\n",
            "Epoch 13/15\n",
            "45/45 [==============================] - 0s 2ms/step - loss: 1.4714 - accuracy: 0.3257\n",
            "Epoch 14/15\n",
            "45/45 [==============================] - 0s 2ms/step - loss: 1.2320 - accuracy: 0.5031\n",
            "Epoch 15/15\n",
            "45/45 [==============================] - 0s 2ms/step - loss: 0.9399 - accuracy: 0.6750\n",
            "\n",
            "Training moel with stddev = 10\n",
            "Epoch 1/15\n",
            "45/45 [==============================] - 1s 2ms/step - loss: 2.3037 - accuracy: 0.0960\n",
            "Epoch 2/15\n",
            "45/45 [==============================] - 0s 2ms/step - loss: 2.3031 - accuracy: 0.1009\n",
            "Epoch 3/15\n",
            "45/45 [==============================] - 0s 2ms/step - loss: 2.3030 - accuracy: 0.1037\n",
            "Epoch 4/15\n",
            "45/45 [==============================] - 0s 2ms/step - loss: 2.3032 - accuracy: 0.1072\n",
            "Epoch 5/15\n",
            "45/45 [==============================] - 0s 2ms/step - loss: 2.3031 - accuracy: 0.1009\n",
            "Epoch 6/15\n",
            "45/45 [==============================] - 0s 2ms/step - loss: 2.3032 - accuracy: 0.1072\n",
            "Epoch 7/15\n",
            "45/45 [==============================] - 0s 2ms/step - loss: 2.3030 - accuracy: 0.1072\n",
            "Epoch 8/15\n",
            "45/45 [==============================] - 0s 2ms/step - loss: 2.3030 - accuracy: 0.1072\n",
            "Epoch 9/15\n",
            "45/45 [==============================] - 0s 2ms/step - loss: 2.3017 - accuracy: 0.1030\n",
            "Epoch 10/15\n",
            "45/45 [==============================] - 0s 2ms/step - loss: 2.1251 - accuracy: 0.1795\n",
            "Epoch 11/15\n",
            "45/45 [==============================] - 0s 2ms/step - loss: 1.7906 - accuracy: 0.2011\n",
            "Epoch 12/15\n",
            "45/45 [==============================] - 0s 3ms/step - loss: 1.6291 - accuracy: 0.2735\n",
            "Epoch 13/15\n",
            "45/45 [==============================] - 0s 2ms/step - loss: 1.4554 - accuracy: 0.3500\n",
            "Epoch 14/15\n",
            "45/45 [==============================] - 0s 2ms/step - loss: 1.2298 - accuracy: 0.5143\n",
            "Epoch 15/15\n",
            "45/45 [==============================] - 0s 2ms/step - loss: 0.9704 - accuracy: 0.6743\n"
          ]
        }
      ],
      "source": [
        "# Your code here\n",
        "from tensorflow.keras import initializers\n",
        "from tensorflow.keras import optimizers\n",
        "\n",
        "\n",
        "\n",
        "input_dim = 64\n",
        "hidden_dim = 64\n",
        "output_dim = 10\n",
        "\n",
        "stddev_values = [1e-3, 1, 10]\n",
        "\n",
        "for stddev in stddev_values:\n",
        "  print (f\"\\nTraining moel with stddev = {stddev}\")\n",
        "\n",
        "  normal_init = initializers.TruncatedNormal(stddev=0.001, seed=42)\n",
        "\n",
        "  model = Sequential()\n",
        "  model.add(Dense(hidden_dim, input_dim=input_dim, activation=\"tanh\", #\n",
        "                kernel_initializer=normal_init))\n",
        "  model.add(Dense(hidden_dim, activation=\"tanh\",\n",
        "                kernel_initializer=normal_init))\n",
        "  model.add(Dense(output_dim, activation=\"softmax\",\n",
        "                kernel_initializer=normal_init))\n",
        "\n",
        "  model.compile(optimizer=optimizers.SGD(learning_rate=0.1),\n",
        "              loss='categorical_crossentropy', metrics=['accuracy'])\n",
        "\n",
        "  history = model.fit (X_train, y_train, epochs=15, batch_size = 32)\n",
        "# when stddev is small - slow\n",
        "# when stddev is big ?\n"
      ]
    },
    {
      "cell_type": "code",
      "source": [
        "print (\"\\nTraining model with zero initialization\")\n",
        "zero_init = initializers.Zeros()\n",
        "\n",
        "model = Sequential()\n",
        "model.add(Dense(hidden_dim, input_dim=input_dim, activation=\"tanh\", #\n",
        "                kernel_initializer=normal_init))\n",
        "model.add(Dense(hidden_dim, activation=\"tanh\",\n",
        "                kernel_initializer=normal_init))\n",
        "model.add(Dense(output_dim, activation=\"softmax\",\n",
        "                kernel_initializer=normal_init))\n",
        "\n",
        "model.compile(optimizer=optimizers.SGD(learning_rate=0.1),\n",
        "              loss='categorical_crossentropy', metrics=['accuracy'])\n",
        "\n",
        "history = model.fit (X_train, y_train, epochs=15, batch_size = 32)"
      ],
      "metadata": {
        "colab": {
          "base_uri": "https://localhost:8080/"
        },
        "id": "FOrv6Pu4KMw_",
        "outputId": "21218fad-cfac-41b9-cbd5-8a37db02aa23"
      },
      "execution_count": 42,
      "outputs": [
        {
          "output_type": "stream",
          "name": "stdout",
          "text": [
            "\n",
            "Training model with zero initialization\n",
            "Epoch 1/15\n",
            "45/45 [==============================] - 1s 2ms/step - loss: 2.3037 - accuracy: 0.0926\n",
            "Epoch 2/15\n",
            "45/45 [==============================] - 0s 2ms/step - loss: 2.3034 - accuracy: 0.0919\n",
            "Epoch 3/15\n",
            "45/45 [==============================] - 0s 2ms/step - loss: 2.3032 - accuracy: 0.0995\n",
            "Epoch 4/15\n",
            "45/45 [==============================] - 0s 2ms/step - loss: 2.3030 - accuracy: 0.1065\n",
            "Epoch 5/15\n",
            "45/45 [==============================] - 0s 2ms/step - loss: 2.3030 - accuracy: 0.1023\n",
            "Epoch 6/15\n",
            "45/45 [==============================] - 0s 2ms/step - loss: 2.3030 - accuracy: 0.1072\n",
            "Epoch 7/15\n",
            "45/45 [==============================] - 0s 2ms/step - loss: 2.3032 - accuracy: 0.1051\n",
            "Epoch 8/15\n",
            "45/45 [==============================] - 0s 2ms/step - loss: 2.3029 - accuracy: 0.1072\n",
            "Epoch 9/15\n",
            "45/45 [==============================] - 0s 2ms/step - loss: 2.3019 - accuracy: 0.1072\n",
            "Epoch 10/15\n",
            "45/45 [==============================] - 0s 2ms/step - loss: 2.1102 - accuracy: 0.1823\n",
            "Epoch 11/15\n",
            "45/45 [==============================] - 0s 2ms/step - loss: 1.7984 - accuracy: 0.1942\n",
            "Epoch 12/15\n",
            "45/45 [==============================] - 0s 2ms/step - loss: 1.6292 - accuracy: 0.2797\n",
            "Epoch 13/15\n",
            "45/45 [==============================] - 0s 2ms/step - loss: 1.4617 - accuracy: 0.3633\n",
            "Epoch 14/15\n",
            "45/45 [==============================] - 0s 2ms/step - loss: 1.2615 - accuracy: 0.5031\n",
            "Epoch 15/15\n",
            "45/45 [==============================] - 0s 2ms/step - loss: 1.0186 - accuracy: 0.6019\n"
          ]
        }
      ]
    },
    {
      "cell_type": "code",
      "source": [
        "# loss almost stays the same..."
      ],
      "metadata": {
        "id": "xqY5QvE5MARs"
      },
      "execution_count": null,
      "outputs": []
    }
  ],
  "metadata": {
    "file_extension": ".py",
    "kernelspec": {
      "display_name": "Python 3 (ipykernel)",
      "language": "python",
      "name": "python3"
    },
    "language_info": {
      "codemirror_mode": {
        "name": "ipython",
        "version": 3
      },
      "file_extension": ".py",
      "mimetype": "text/x-python",
      "name": "python",
      "nbconvert_exporter": "python",
      "pygments_lexer": "ipython3",
      "version": "3.11.8"
    },
    "mimetype": "text/x-python",
    "name": "python",
    "npconvert_exporter": "python",
    "pygments_lexer": "ipython3",
    "toc": {
      "base_numbering": 1,
      "nav_menu": {},
      "number_sections": true,
      "sideBar": true,
      "skip_h1_title": false,
      "title_cell": "Table of Contents",
      "title_sidebar": "Contents",
      "toc_cell": false,
      "toc_position": {},
      "toc_section_display": true,
      "toc_window_display": false
    },
    "version": 3,
    "colab": {
      "provenance": []
    }
  },
  "nbformat": 4,
  "nbformat_minor": 0
}