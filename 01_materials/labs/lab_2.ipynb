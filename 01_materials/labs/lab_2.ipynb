{
  "cells": [
    {
      "cell_type": "markdown",
      "metadata": {
        "id": "0EJTY5knHoYT"
      },
      "source": [
        "# Backpropagation in Multilayer Neural Networks\n",
        "\n",
        "While we will primarily be working with high-level, abstract toolkits like Keras in this course, understanding how backpropagation works is absolutely essential to using neural networks.\n",
        "\n",
        "In this exercise, we will build our own backpropagation algorithm - working through each step, to ensure that we can follow it."
      ]
    },
    {
      "cell_type": "markdown",
      "metadata": {
        "collapsed": false,
        "id": "zVHUW_TAHoYY"
      },
      "source": [
        "Just like in Lab 1, we'll be working with the MNIST dataset. We will load it and plot an example:"
      ]
    },
    {
      "cell_type": "code",
      "execution_count": 20,
      "metadata": {
        "id": "azQtsxy7HoYZ"
      },
      "outputs": [],
      "source": [
        "%matplotlib inline\n",
        "import matplotlib.pyplot as plt\n",
        "import numpy as np\n",
        "from sklearn.datasets import load_digits\n",
        "\n",
        "digits = load_digits()"
      ]
    },
    {
      "cell_type": "code",
      "execution_count": 21,
      "metadata": {
        "colab": {
          "base_uri": "https://localhost:8080/",
          "height": 314
        },
        "id": "MEC2jscrHoYb",
        "outputId": "520b8de2-6888-4ad6-d5cd-7b02585907af"
      },
      "outputs": [
        {
          "output_type": "display_data",
          "data": {
            "text/plain": [
              "<Figure size 300x300 with 1 Axes>"
            ],
            "image/png": "[encoded data removed]"
          },
          "metadata": {}
        }
      ],
      "source": [
        "sample_index = 45\n",
        "plt.figure(figsize=(3, 3))\n",
        "plt.imshow(digits.images[sample_index], cmap=plt.cm.gray_r,\n",
        "           interpolation='nearest')\n",
        "plt.title(\"image label: %d\" % digits.target[sample_index]);"
      ]
    },
    {
      "cell_type": "markdown",
      "metadata": {
        "id": "3g9Gr8_VHoYb"
      },
      "source": [
        "### Preprocessing\n",
        "\n",
        "Of course, we need to split our data into training and testing sets before we use it, just the same as in Lab 1:"
      ]
    },
    {
      "cell_type": "code",
      "execution_count": 22,
      "metadata": {
        "id": "BdKUYiMwHoYc"
      },
      "outputs": [],
      "source": [
        "from sklearn.model_selection import train_test_split\n",
        "# similar processing, just different split\n",
        "data = np.asarray(digits.data, dtype='float32')\n",
        "target = np.asarray(digits.target, dtype='int32')\n",
        "\n",
        "X_train, X_test, y_train, y_test = train_test_split(\n",
        "    data, target, test_size=0.15, random_state=37)"
      ]
    },
    {
      "cell_type": "markdown",
      "metadata": {
        "id": "MzLJuDgmHoYd"
      },
      "source": [
        "# Numpy Implementation\n",
        "\n",
        "## a) Logistic Regression\n",
        "\n",
        "In this section we will implement a logistic regression model trainable with SGD using numpy. Here are the objectives:\n",
        "\n",
        "- Implement the softmax function $\\sigma(\\mathbf{x})_i = \\frac{e^{x_i}}{\\sum_{j=1}^n e^{x_j}}$;\n",
        "- Implement the negative log likelihood function $NLL(Y_{true}, Y_{pred}) = - \\sum_{i=1}^{n}{y_{true, i} \\cdot \\log(y_{pred, i})}$;\n",
        "- Train a logistic regression model on the MNIST dataset;\n",
        "- Evaluate the model on the training and testing sets.\n",
        "\n",
        "Before we get there, let's write a function that one-hot encodes the class labels:"
      ]
    },
    {
      "cell_type": "code",
      "execution_count": 23,
      "metadata": {
        "id": "1ibvcsu6HoYe"
      },
      "outputs": [],
      "source": [
        "def one_hot(n_classes, y): # last time we just used a fn, this time we are doing our own conversions using a numpy fn\n",
        "    return np.eye(n_classes)[y]"
      ]
    },
    {
      "cell_type": "code",
      "execution_count": 24,
      "metadata": {
        "colab": {
          "base_uri": "https://localhost:8080/"
        },
        "id": "L2d0mKI3HoYe",
        "outputId": "57a0802a-3dd7-42a4-f8c0-20c3ed804633"
      },
      "outputs": [
        {
          "output_type": "execute_result",
          "data": {
            "text/plain": [
              "array([0., 0., 0., 1., 0., 0., 0., 0., 0., 0.])"
            ]
          },
          "metadata": {},
          "execution_count": 24
        }
      ],
      "source": [
        "one_hot(n_classes=10, y=3)"
      ]
    },
    {
      "cell_type": "code",
      "execution_count": 25,
      "metadata": {
        "colab": {
          "base_uri": "https://localhost:8080/"
        },
        "id": "anPmGDK-HoYf",
        "outputId": "45345372-5436-486a-fb20-99e85c6e6c8f"
      },
      "outputs": [
        {
          "output_type": "execute_result",
          "data": {
            "text/plain": [
              "array([[1., 0., 0., 0., 0., 0., 0., 0., 0., 0.],\n",
              "       [0., 0., 0., 0., 1., 0., 0., 0., 0., 0.],\n",
              "       [0., 0., 0., 0., 0., 0., 0., 0., 0., 1.],\n",
              "       [0., 1., 0., 0., 0., 0., 0., 0., 0., 0.]])"
            ]
          },
          "metadata": {},
          "execution_count": 25
        }
      ],
      "source": [
        "one_hot(n_classes=10, y=[0, 4, 9, 1])\n",
        "# translated into a vector"
      ]
    },
    {
      "cell_type": "markdown",
      "metadata": {
        "id": "SOA3tD73HoYf"
      },
      "source": [
        "### The softmax function\n",
        "\n",
        "Now we will implement the softmax function. Recall that the softmax function is defined as follows:\n",
        "\n",
        "$$\n",
        "softmax(\\mathbf{x}) = \\frac{1}{\\sum_{i=1}^{n}{e^{x_i}}}\n",
        "\\cdot\n",
        "\\begin{bmatrix}\n",
        "  e^{x_1}\\\\\\\\\n",
        "  e^{x_2}\\\\\\\\\n",
        "  \\vdots\\\\\\\\\n",
        "  e^{x_n}\n",
        "\\end{bmatrix}\n",
        "$$\n",
        "\n",
        "This is implemented for you using numpy - we want to be able to apply the softmax function to a batch of samples at once, so we will use numpy's vectorized operations to do so.\n",
        "\n",
        "Our method also handles _stability issues_ that can occur when the values in `X` are very large. We will subtract the maximum value from each row of `X` to avoid overflow in the exponentiation. This isn't part of the softmax function itself, but it's a useful trick to know about."
      ]
    },
    {
      "cell_type": "code",
      "execution_count": 26,
      "metadata": {
        "id": "BnuWwdSIHoYf"
      },
      "outputs": [],
      "source": [
        "def softmax(X): # also available as a fn, don't always have to build it yourself.\n",
        "    X_max = np.max(X, axis=-1, keepdims=True) # we wdon't want x value to be too big, do the below standardiaziation to avoid getting too wide range of exponentials\n",
        "    exp = np.exp(X - X_max) # Subtract the max to avoid overflow in the exponentiation\n",
        "    return exp / np.sum(exp, axis=-1, keepdims=True)\n"
      ]
    },
    {
      "cell_type": "markdown",
      "metadata": {
        "id": "T6TiaC7FHoYg"
      },
      "source": [
        "Let's make sure that this works one vector at a time (and check that the components sum to one):"
      ]
    },
    {
      "cell_type": "code",
      "execution_count": 27,
      "metadata": {
        "colab": {
          "base_uri": "https://localhost:8080/"
        },
        "id": "jlE7WdeQHoYg",
        "outputId": "c8416ddc-8810-478a-bddf-fe8ccf8b9d23"
      },
      "outputs": [
        {
          "output_type": "stream",
          "name": "stdout",
          "text": [
            "[9.99662391e-01 3.35349373e-04 2.25956630e-06]\n"
          ]
        }
      ],
      "source": [
        "print(softmax([10, 2, -3]))\n",
        "# softmax converted to three numbers after taking exponential"
      ]
    },
    {
      "cell_type": "markdown",
      "metadata": {
        "id": "u2lYrgneHoYg"
      },
      "source": [
        "When we are using our model to make predictions, we will want to be able to make predictions for multiple samples at once.\n",
        "Let's make sure that our implementation of softmax works for a batch of samples:"
      ]
    },
    {
      "cell_type": "code",
      "execution_count": 28,
      "metadata": {
        "colab": {
          "base_uri": "https://localhost:8080/"
        },
        "id": "SCTon0WeHoYg",
        "outputId": "c55c3bb4-5cf2-4e8e-9dc5-0219a45822d8"
      },
      "outputs": [
        {
          "output_type": "stream",
          "name": "stdout",
          "text": [
            "[[9.99662391e-01 3.35349373e-04 2.25956630e-06]\n",
            " [2.47262316e-03 9.97527377e-01 1.38536042e-11]]\n"
          ]
        }
      ],
      "source": [
        "X = np.array([[10, 2, -3],\n",
        "              [-1, 5, -20]])\n",
        "print(softmax(X))\n",
        "\n",
        "# no matter how many numbers, the sum will be 1.0"
      ]
    },
    {
      "cell_type": "markdown",
      "metadata": {
        "id": "k8pSetIAHoYh"
      },
      "source": [
        "Probabilities should sum to 1:"
      ]
    },
    {
      "cell_type": "code",
      "execution_count": 29,
      "metadata": {
        "colab": {
          "base_uri": "https://localhost:8080/"
        },
        "id": "uwFrpmkJHoYh",
        "outputId": "14587916-52b1-4287-8b42-89683a3f1be9"
      },
      "outputs": [
        {
          "output_type": "stream",
          "name": "stdout",
          "text": [
            "1.0\n"
          ]
        }
      ],
      "source": [
        "print(np.sum(softmax([10, 2, -3])))"
      ]
    },
    {
      "cell_type": "code",
      "execution_count": 30,
      "metadata": {
        "colab": {
          "base_uri": "https://localhost:8080/"
        },
        "id": "M67TNnA6HoYh",
        "outputId": "013ab962-50b3-41f2-975b-98ac27b9f714"
      },
      "outputs": [
        {
          "output_type": "stream",
          "name": "stdout",
          "text": [
            "softmax of 2 vectors:\n",
            "[[9.99662391e-01 3.35349373e-04 2.25956630e-06]\n",
            " [2.47262316e-03 9.97527377e-01 1.38536042e-11]]\n"
          ]
        }
      ],
      "source": [
        "print(\"softmax of 2 vectors:\")\n",
        "X = np.array([[10, 2, -3],\n",
        "              [-1, 5, -20]])\n",
        "print(softmax(X))"
      ]
    },
    {
      "cell_type": "markdown",
      "metadata": {
        "id": "svsbTrH4HoYh"
      },
      "source": [
        "The sum of probabilities for each input vector of logits should some to 1:"
      ]
    },
    {
      "cell_type": "code",
      "execution_count": 31,
      "metadata": {
        "colab": {
          "base_uri": "https://localhost:8080/"
        },
        "id": "7dNNdY06HoYh",
        "outputId": "522f0003-a9f0-4536-f29c-3b066341e8c8"
      },
      "outputs": [
        {
          "output_type": "stream",
          "name": "stdout",
          "text": [
            "[1. 1.]\n"
          ]
        }
      ],
      "source": [
        "print(np.sum(softmax(X), axis=1))"
      ]
    },
    {
      "cell_type": "markdown",
      "metadata": {
        "id": "2aOO4gtvHoYh"
      },
      "source": [
        "Now we will implement a function that, given the true one-hot encoded class `Y_true` and some predicted probabilities `Y_pred`, returns the negative log likelihood.\n",
        "\n",
        "Recall that the negative log likelihood is defined as follows:\n",
        "\n",
        "$$\n",
        "NLL(Y_{true}, Y_{pred}) = - \\sum_{i=1}^{n}{y_{true, i} \\cdot \\log(y_{pred, i})}\n",
        "$$\n",
        "\n",
        "For example, if we have $y_{true} = [1, 0, 0]$ and $y_{pred} = [0.99, 0.01, 0]$, then the negative log likelihood is $- \\log(0.99) \\approx 0.01$."
      ]
    },
    {
      "cell_type": "code",
      "execution_count": 32,
      "metadata": {
        "colab": {
          "base_uri": "https://localhost:8080/"
        },
        "id": "5Maio9rQHoYi",
        "outputId": "1c7ccf00-170b-4a6b-820b-1dba0efb2484"
      },
      "outputs": [
        {
          "output_type": "stream",
          "name": "stdout",
          "text": [
            "0.01005033585350145\n"
          ]
        }
      ],
      "source": [
        "def nll(Y_true, Y_pred): # practice implementing own log loss function. sum up y-ground truth multiplied by log of yprediction.\n",
        "    Y_true = np.asarray(Y_true)\n",
        "    Y_pred = np.asarray(Y_pred)\n",
        "\n",
        "    # Ensure Y_pred doesn't have zero probabilities to avoid log(0)\n",
        "    Y_pred = np.clip(Y_pred, 1e-15, 1 - 1e-15) # clipping the y-values so that it doesn't become 0, log0 doesn't exist.\n",
        "\n",
        "    # Calculate negative log likelihood\n",
        "    loss = -np.sum(Y_true * np.log(Y_pred))\n",
        "    return loss\n",
        "\n",
        "# Make sure that it works for a simple sample at a time\n",
        "print(nll([1, 0, 0], [.99, 0.01, 0])) # --> in this case, y truth is very close to pred"
      ]
    },
    {
      "cell_type": "markdown",
      "metadata": {
        "id": "kL6N2iFgHoYi"
      },
      "source": [
        "We should see a very high value for this negative log likelihood, since the model is very confident that the third class is the correct one, but the true class is the first one:"
      ]
    },
    {
      "cell_type": "code",
      "execution_count": 33,
      "metadata": {
        "colab": {
          "base_uri": "https://localhost:8080/"
        },
        "id": "_TtqIRanHoYi",
        "outputId": "f35faae9-e53b-4415-f30d-7df7173096b0"
      },
      "outputs": [
        {
          "output_type": "stream",
          "name": "stdout",
          "text": [
            "4.605170185988091\n"
          ]
        }
      ],
      "source": [
        "print(nll([1, 0, 0], [0.01, 0.01, .98])) # whereas in this example, y-truth is diffrent from y-pred, log loss is big"
      ]
    },
    {
      "cell_type": "markdown",
      "metadata": {
        "id": "bow65ppxHoYi"
      },
      "source": [
        "Make sure that your implementation can compute the average negative log likelihood of a group of predictions: `Y_pred` and `Y_true` can therefore be past as 2D arrays:"
      ]
    },
    {
      "cell_type": "code",
      "execution_count": 34,
      "metadata": {
        "colab": {
          "base_uri": "https://localhost:8080/"
        },
        "id": "Jpp1bh0sHoYi",
        "outputId": "a6a8622d-d26c-4584-992d-e0de11f73cbd"
      },
      "outputs": [
        {
          "output_type": "stream",
          "name": "stdout",
          "text": [
            "0.010050335853503449\n"
          ]
        }
      ],
      "source": [
        "# Check that the average NLL of the following 3 almost perfect\n",
        "# predictions is close to 0\n",
        "\n",
        "## also works for a 2d array.\n",
        "Y_true = np.array([[0, 1, 0],\n",
        "                   [1, 0, 0],\n",
        "                   [0, 0, 1]])\n",
        "\n",
        "Y_pred = np.array([[0,   1,    0],\n",
        "                   [.99, 0.01, 0],\n",
        "                   [0,   0,    1]])\n",
        "\n",
        "print(nll(Y_true, Y_pred))"
      ]
    },
    {
      "cell_type": "markdown",
      "metadata": {
        "collapsed": false,
        "id": "KsqupSz0HoYi"
      },
      "source": [
        "Now that we have our softmax and negative log likelihood functions, we can implement a logistic regression model.\n",
        "In this section, we have built the model for you, but you will need to complete a few key parts."
      ]
    },
    {
      "cell_type": "code",
      "execution_count": 35,
      "metadata": {
        "id": "5e7-vA1KHoYi"
      },
      "outputs": [],
      "source": [
        "class LogisticRegression:\n",
        "\n",
        "    def __init__(self, input_size, output_size):\n",
        "        # Initialize the weights and biases with random numbers\n",
        "        self.W = np.random.uniform(size=(input_size, output_size),\n",
        "                                   high=0.1, low=-0.1)\n",
        "        self.b = np.random.uniform(size=output_size,\n",
        "                                   high=0.1, low=-0.1)\n",
        "\n",
        "# randomly initialize our weihts and bias using uniform distribution?\n",
        "\n",
        "\n",
        "        # Store the input size and output size\n",
        "        self.output_size = output_size\n",
        "        self.input_size = input_size\n",
        "\n",
        "# use numby dot mulipications and then add bias\n",
        "\n",
        "    def forward(self, X):\n",
        "        # Compute the linear combination of the input and weights\n",
        "        Z = np.dot (X, self.W) + self.b\n",
        "\n",
        "        # Return the softmax of the linear combination\n",
        "        return softmax(Z)\n",
        "\n",
        "\n",
        "# do forward pass\n",
        "    def predict(self, X):\n",
        "        # Return the most probable class for each sample in X\n",
        "        if len(X.shape) == 1:\n",
        "            return np.argmax(self.forward(X)) # to get index of values that's biggest number within the vetor\n",
        "        else:\n",
        "            return np.argmax(self.forward(X), axis=1)\n",
        "\n",
        "    def loss(self, X, y):\n",
        "        # Compute the negative log likelihood over the data provided\n",
        "        return nll(one_hot(self.output_size, y), self.forward(X))\n",
        "      # need to turn ground truth y into the form of one_hot representation to match our predictions.\n",
        "\n",
        "\n",
        "    def grad_loss(self, X, y_true, y_pred): # this is how we want to optimize the model\n",
        "        # Compute the gradient of the loss with respect to W and b for a single sample (X, y_true)\n",
        "        # y_pred is the output of the forward pass\n",
        "\n",
        "        # Gradient with respect to weights\n",
        "        grad_W = np.dot(X.T, (y_pred - y_true))\n",
        "\n",
        "        # Gradient with respect to biases\n",
        "        grad_b = np.sum(y_pred - y_true, axis=0)\n",
        "\n",
        "        return grad_W, grad_b"
      ]
    },
    {
      "cell_type": "code",
      "source": [],
      "metadata": {
        "id": "EjtfhSskQK7W"
      },
      "execution_count": null,
      "outputs": []
    },
    {
      "cell_type": "code",
      "execution_count": 36,
      "metadata": {
        "id": "L5RIY4bmHoYj"
      },
      "outputs": [],
      "source": [
        "# Build a model and test its forward inference\n",
        "n_features = X_train.shape[1]\n",
        "n_classes = len(np.unique(y_train))\n",
        "lr = LogisticRegression(n_features, n_classes) # this is initalizing by giving feature and class numbers"
      ]
    },
    {
      "cell_type": "markdown",
      "metadata": {
        "collapsed": false,
        "id": "rPT2cGfwHoYj"
      },
      "source": [
        "We can evaluate the model on an example, visualizing the prediction probabilities:"
      ]
    },
    {
      "cell_type": "code",
      "execution_count": 37,
      "metadata": {
        "colab": {
          "base_uri": "https://localhost:8080/",
          "height": 410
        },
        "id": "SolsAj7hHoYj",
        "outputId": "b2ac2981-fd08-4408-c693-064bd7a42bda"
      },
      "outputs": [
        {
          "output_type": "display_data",
          "data": {
            "text/plain": [
              "<Figure size 1000x400 with 2 Axes>"
            ],
            "image/png": "[encoded data removed]"
          },
          "metadata": {}
        }
      ],
      "source": [
        "def plot_prediction(model, sample_idx=0, classes=range(10)):\n",
        "    fig, (ax0, ax1) = plt.subplots(nrows=1, ncols=2, figsize=(10, 4))\n",
        "\n",
        "    ax0.imshow(X_test[sample_idx:sample_idx+1].reshape(8, 8),\n",
        "               cmap=plt.cm.gray_r, interpolation='nearest')\n",
        "    ax0.set_title(\"True image label: %d\" % y_test[sample_idx]);\n",
        "\n",
        "\n",
        "    ax1.bar(classes, one_hot(len(classes), y_test[sample_idx]), label='true')\n",
        "    ax1.bar(classes, model.forward(X_test[sample_idx]), label='prediction', color=\"red\")\n",
        "    ax1.set_xticks(classes)\n",
        "    prediction = model.predict(X_test[sample_idx])\n",
        "    ax1.set_title('Output probabilities (prediction: %d)'\n",
        "                  % prediction)\n",
        "    ax1.set_xlabel('Digit class')\n",
        "    ax1.legend()\n",
        "\n",
        "plot_prediction(lr, sample_idx=0)\n",
        "\n",
        "# given true label 2, what is ground truth (2=100%,) and our probability - all over the place as we randomized"
      ]
    },
    {
      "cell_type": "markdown",
      "metadata": {
        "collapsed": false,
        "id": "GZEpUhI7HoYj"
      },
      "source": [
        "Now it's time to start training! We will train for a single epoch, and then evaluate the model on the training and testing sets. Read through the following and make sure that you understand what we are doing here."
      ]
    },
    {
      "cell_type": "code",
      "execution_count": 38,
      "metadata": {
        "colab": {
          "base_uri": "https://localhost:8080/"
        },
        "id": "ZHQaSPI0HoYj",
        "outputId": "dcff09cc-4953-4e4f-9b4a-480a0d017f0e"
      },
      "outputs": [
        {
          "output_type": "stream",
          "name": "stdout",
          "text": [
            "Average NLL over the last 100 samples at step 0: -0\n",
            "Average NLL over the last 100 samples at step 100: 298\n",
            "Average NLL over the last 100 samples at step 200: 158\n",
            "Average NLL over the last 100 samples at step 300: 768\n",
            "Average NLL over the last 100 samples at step 400: 69\n",
            "Average NLL over the last 100 samples at step 500: 126\n",
            "Average NLL over the last 100 samples at step 600: 30\n",
            "Average NLL over the last 100 samples at step 700: 52\n",
            "Average NLL over the last 100 samples at step 800: 74\n",
            "Average NLL over the last 100 samples at step 900: 167\n",
            "Average NLL over the last 100 samples at step 1000: 134\n",
            "Average NLL over the last 100 samples at step 1100: 77\n",
            "Average NLL over the last 100 samples at step 1200: 181\n",
            "Average NLL over the last 100 samples at step 1300: 217\n",
            "Average NLL over the last 100 samples at step 1400: 43\n",
            "Average NLL over the last 100 samples at step 1500: 198\n"
          ]
        }
      ],
      "source": [
        "#Now we train our model\n",
        "\n",
        "lr = LogisticRegression(input_size=X_train.shape[1], output_size=10)\n",
        "\n",
        "learning_rate = 0.01\n",
        "\n",
        "for i in range(len(X_train)): # this is how many examples we have, going through the iteration.\n",
        "    # Get the current sample and corresponding label\n",
        "    x = X_train[i:i+1]  # Reshape to keep the batch dimension\n",
        "    y = y_train[i:i+1]  # Reshape to keep the batch dimension\n",
        "\n",
        "    # Compute the forward pass and the gradient of the loss with respect to W and b\n",
        "    y_pred = lr.forward(x) # by calling a forward pass, we get predicted result\n",
        "    grad_W, grad_b = lr.grad_loss(x, one_hot(lr.output_size, y), y_pred) # now we can calculate the gradent loss fn\n",
        "\n",
        "    # Update the weights and biases\n",
        "    # now we can incorporate update strategies on chaing weights and biases, we are not incorporating momentum etc.\n",
        "    lr.W -= learning_rate * grad_W\n",
        "    lr.b -= learning_rate * grad_b\n",
        "\n",
        "    # Print the average negative log likelihood every 100 steps on 1 single example\n",
        "    if i % 100 == 0:\n",
        "        avg_nll = lr.loss(X_train[max(0, i-100):i], y_train[max(0, i-100):i])\n",
        "        print(\"Average NLL over the last 100 samples at step %d: %0.f\" % (i, avg_nll))\n",
        "\n",
        "        # we start some big values, and then training the model & updating results, trend to see smaller numbers\n"
      ]
    },
    {
      "cell_type": "markdown",
      "metadata": {
        "collapsed": false,
        "id": "MhRlGktTHoYj"
      },
      "source": [
        "Evaluate the trained model on the first example:"
      ]
    },
    {
      "cell_type": "code",
      "execution_count": 39,
      "metadata": {
        "colab": {
          "base_uri": "https://localhost:8080/",
          "height": 410
        },
        "id": "av9r_ypuHoYk",
        "outputId": "42815473-7b70-40b2-b16e-7889085eb59d"
      },
      "outputs": [
        {
          "output_type": "display_data",
          "data": {
            "text/plain": [
              "<Figure size 1000x400 with 2 Axes>"
            ],
            "image/png": "[encoded data removed]"
          },
          "metadata": {}
        }
      ],
      "source": [
        "plot_prediction(lr, sample_idx=0)\n",
        "# truth and our prediction is overlapped."
      ]
    },
    {
      "cell_type": "markdown",
      "metadata": {
        "id": "5iykCvwbHoYk"
      },
      "source": [
        "## b) Feedforward Multilayer\n",
        "\n",
        "The objective of this section is to implement the backpropagation algorithm (SGD with the chain rule) on a single layer neural network using the sigmoid activation function.\n",
        "\n",
        "Now it's your turn to\n",
        "\n",
        "- Implement the `sigmoid` and its element-wise derivative `dsigmoid` functions:\n",
        "\n",
        "$$\n",
        "sigmoid(x) = \\frac{1}{1 + e^{-x}}\n",
        "$$\n",
        "\n",
        "$$\n",
        "dsigmoid(x) = sigmoid(x) \\cdot (1 - sigmoid(x))\n",
        "$$\n",
        "\n",
        "Remember that you can use your `sigmoid` function inside your `dsigmoid` function.\n",
        "\n",
        "Just like with our softmax function, we also want to make sure that we don't run into stability issues with our sigmoid function. We will use `np.clip` to ensure that the input to the sigmoid function is not too large or too small."
      ]
    },
    {
      "cell_type": "code",
      "execution_count": 40,
      "metadata": {
        "colab": {
          "base_uri": "https://localhost:8080/",
          "height": 430
        },
        "id": "7_tlQ7bCHoYl",
        "outputId": "8eaaadd2-f239-4582-9097-d8c22c2a86ab"
      },
      "outputs": [
        {
          "output_type": "display_data",
          "data": {
            "text/plain": [
              "<Figure size 640x480 with 1 Axes>"
            ],
            "image/png": "[encoded data removed]"
          },
          "metadata": {}
        }
      ],
      "source": [
        "# now we implement sigmoid fn\n",
        "\n",
        "def sigmoid(X):\n",
        "    # Clip X to prevent overflow or underflow\n",
        "    X = np.clip(X, -500, 500) # This ensures that np.exp(X) doesn't overflow , we also clip x to certain ranges.\n",
        "    return 1/(1 + np.exp(-X)) # what is defined in the fn of sigmoid\n",
        "\n",
        "\n",
        "def dsigmoid(X):\n",
        "    return sigmoid(X) * (1-sigmoid(X))\n",
        "\n",
        "\n",
        "x = np.linspace(-5, 5, 100)\n",
        "plt.plot(x, sigmoid(x), label='sigmoid')\n",
        "plt.plot(x, dsigmoid(x), label='dsigmoid')\n",
        "plt.legend(loc='best');"
      ]
    },
    {
      "cell_type": "markdown",
      "metadata": {
        "id": "iELwPrQ6HoYl"
      },
      "source": [
        "Now it's your turn to complete the neural network code, so that we can train it on the MNIST dataset.\n",
        "\n",
        "Some parts have been completed for you already. Often, you'll be able to refer back to the code from the previous section to help you complete the code in this section."
      ]
    },
    {
      "cell_type": "code",
      "execution_count": 41,
      "metadata": {
        "id": "drlJsJF4HoYq"
      },
      "outputs": [],
      "source": [
        "class NeuralNet():\n",
        "    \"\"\"MLP with 1 hidden layer with a sigmoid activation\"\"\"\n",
        "# parameter of NN given\n",
        "    def __init__(self, input_size, hidden_size, output_size):\n",
        "        # Initializes the weights with random numbers\n",
        "        self.W_h = np.random.uniform(size=(input_size, hidden_size),\n",
        "                                     high=0.1, low=-0.1) # use random uniform distribution to initialize.\n",
        "        self.b_h = np.random.uniform(size=hidden_size,\n",
        "                                     high=0.1, low=-0.1)\n",
        "        self.W_o = np.random.uniform(size=(hidden_size, output_size),\n",
        "                                     high=0.1, low=-0.1)\n",
        "        self.b_o = np.random.uniform(size=output_size,\n",
        "                                     high=0.1, low=-0.1)\n",
        "\n",
        "        # Store the input size, hidden size and output size\n",
        "        self.input_size = input_size\n",
        "        self.hidden_size = hidden_size\n",
        "        self.output_size = output_size\n",
        "\n",
        "    def forward_hidden(self, X): # this is what you would have done if you only had a single layer\n",
        "        # Compute the linear combination of the input and weights\n",
        "        self.Z_h = np.dot (X, self.W_h) + self.b_h # linear operation using nympy dot to combine weight and bias\n",
        "\n",
        "        # Apply the sigmoid activation function, to add non-linearity to this layer\n",
        "        return sigmoid (self.Z_h)\n",
        "        # first pass through hidden layer, then take the the output through forward output.\n",
        "\n",
        "    def forward_output(self, H):\n",
        "        # Compute the linear combination of the hidden layer activation and weights\n",
        "        self.Z_o = np.dot (H, self.W_o) + self.b_o # linear fn stays the same\n",
        "\n",
        "        # Apply the sigmoid activation function, to get our output.\n",
        "        return sigmoid (self.Z_o)\n",
        "\n",
        "\n",
        "    def forward(self, X):\n",
        "        # Compute the forward activations of the hidden and output layers\n",
        "        H = self.forward_hidden(X)\n",
        "        Y = self.forward_output(H)\n",
        "\n",
        "        return Y\n",
        "\n",
        "\n",
        "\n",
        "# loss and grad_loss is what we use when we do backward propagation.\n",
        "\n",
        "# define our own loss fine, compare goldstadnard w/ pred.\n",
        "\n",
        "    def loss(self, X, y):\n",
        "        y_onehot = one_hot(self.output_size, y)\n",
        "        return nll (one_hot (self.output_size, y), self.forward (X))\n",
        "\n",
        "# we need to know what the gradient looks like for all the parameters\n",
        "# 4\n",
        "# weight of output layer\n",
        "#bias of output layer\n",
        "# wt of hidden layer\n",
        "# bias of hidden layer\n",
        "# using the chain of rule ,starting from outer most layer\n",
        "\n",
        "\n",
        "    def grad_loss(self, X, y_true):\n",
        "        y_true = one_hot(self.output_size, y_true)\n",
        "        y_pred = self.forward(X)\n",
        "\n",
        "        # Compute the error at the output layer\n",
        "        error_o = y_pred - y_true\n",
        "\n",
        "        # Compute the gradient of the loss with respect to W_o and b_o\n",
        "        grad_W_o = np.dot(self.Z_h.T, error_o)\n",
        "        grad_b_o = np.sum(error_o, axis=0)\n",
        "\n",
        "        # Compute the error at the hidden layer\n",
        "        error_h = np.dot(error_o, self.W_o.T) * dsigmoid(self.Z_h)\n",
        "\n",
        "        # Compute the gradient of the loss with respect to W_h and b_h\n",
        "        grad_W_h = np.dot(X.T, error_h)\n",
        "        grad_b_h = np.sum(error_h, axis=0)\n",
        "\n",
        "        return {\"W_h\": grad_W_h, \"b_h\": grad_b_h, \"W_o\": grad_W_o, \"b_o\": grad_b_o}\n",
        "\n",
        "\n",
        "# how do we update the model based on the gradient\n",
        "    def train(self, x, y, learning_rate):\n",
        "        # Ensure x is 2D\n",
        "        x = x[np.newaxis, :] # get x, use it to compare w/ ground truth.\n",
        "        # Compute the gradient for the sample and update the weights\n",
        "        grads = self.grad_loss(x, y)\n",
        "\n",
        "\n",
        "        self.W_h -= learning_rate * grads[\"W_h\"]\n",
        "        self.b_h -= learning_rate * grads[\"b_h\"]\n",
        "        self.W_o -= learning_rate * grads[\"W_o\"]\n",
        "        self.b_o -= learning_rate * grads[\"b_o\"]\n",
        "\n",
        "\n",
        "# get prediction in the right format\n",
        "    def predict(self, X):\n",
        "        if len(X.shape) == 1:\n",
        "            return np.argmax(self.forward(X))\n",
        "        else:\n",
        "            return np.argmax(self.forward(X), axis=1)\n",
        "\n",
        "\n",
        "# compare to gound truth\n",
        "    def accuracy(self, X, y):\n",
        "        y_preds = np.argmax(self.forward(X), axis=1)\n",
        "        return np.mean(y_preds == y)"
      ]
    },
    {
      "cell_type": "markdown",
      "metadata": {
        "collapsed": false,
        "id": "PrNnQrnXHoYr"
      },
      "source": [
        "Once the code is written, we can test our model on a single sample:"
      ]
    },
    {
      "cell_type": "code",
      "execution_count": 42,
      "metadata": {
        "id": "rSsY34qHHoYr"
      },
      "outputs": [],
      "source": [
        "n_hidden = 10 # define scope of hidden layer to 10 dimensions\n",
        "model = NeuralNet(n_features, n_hidden, n_classes)"
      ]
    },
    {
      "cell_type": "code",
      "execution_count": 43,
      "metadata": {
        "colab": {
          "base_uri": "https://localhost:8080/"
        },
        "id": "4wFNMBeJHoYr",
        "outputId": "db163887-a8db-42bf-cc27-c5b8d3877417"
      },
      "outputs": [
        {
          "output_type": "execute_result",
          "data": {
            "text/plain": [
              "1063.8150027306624"
            ]
          },
          "metadata": {},
          "execution_count": 43
        }
      ],
      "source": [
        "model.loss(X_train, y_train) # loss is big and accuracy is low"
      ]
    },
    {
      "cell_type": "code",
      "execution_count": 44,
      "metadata": {
        "colab": {
          "base_uri": "https://localhost:8080/"
        },
        "id": "MvW9sVJkHoYs",
        "outputId": "5ac45544-75fa-4974-d6b6-7746d1ff1bb7"
      },
      "outputs": [
        {
          "output_type": "execute_result",
          "data": {
            "text/plain": [
              "0.09888670595939751"
            ]
          },
          "metadata": {},
          "execution_count": 44
        }
      ],
      "source": [
        "model.accuracy(X_train, y_train)"
      ]
    },
    {
      "cell_type": "code",
      "execution_count": 45,
      "metadata": {
        "colab": {
          "base_uri": "https://localhost:8080/",
          "height": 410
        },
        "id": "yjnff2GQHoYs",
        "outputId": "4e3b82be-f089-442e-af8e-785ba2bf34f3"
      },
      "outputs": [
        {
          "output_type": "display_data",
          "data": {
            "text/plain": [
              "<Figure size 1000x400 with 2 Axes>"
            ],
            "image/png": "[encoded data removed]"
          },
          "metadata": {}
        }
      ],
      "source": [
        "plot_prediction(model, sample_idx=5) # we are far from ground truth"
      ]
    },
    {
      "cell_type": "markdown",
      "metadata": {
        "collapsed": false,
        "id": "UeHhWodEHoYs"
      },
      "source": [
        "And now it's time to train!"
      ]
    },
    {
      "cell_type": "code",
      "execution_count": 47,
      "metadata": {
        "colab": {
          "base_uri": "https://localhost:8080/"
        },
        "id": "xO6G4uffHoYs",
        "outputId": "f8d2ac96-7d0a-4c79-87a6-3c37ba08ab77"
      },
      "outputs": [
        {
          "output_type": "stream",
          "name": "stdout",
          "text": [
            "Random init: train loss: 408.80462, train acc: 0.954, test acc: 0.915\n",
            "Epoch #1, train loss: 382.79729, train acc: 0.957, test acc: 0.911\n",
            "Epoch #2, train loss: 363.35961, train acc: 0.957, test acc: 0.919\n",
            "Epoch #3, train loss: 348.01450, train acc: 0.961, test acc: 0.919\n",
            "Epoch #4, train loss: 336.57030, train acc: 0.962, test acc: 0.926\n",
            "Epoch #5, train loss: 329.08559, train acc: 0.963, test acc: 0.926\n",
            "Epoch #6, train loss: 324.13517, train acc: 0.959, test acc: 0.919\n",
            "Epoch #7, train loss: 319.82080, train acc: 0.958, test acc: 0.919\n",
            "Epoch #8, train loss: 314.81351, train acc: 0.956, test acc: 0.911\n",
            "Epoch #9, train loss: 308.32732, train acc: 0.955, test acc: 0.911\n",
            "Epoch #10, train loss: 300.36300, train acc: 0.956, test acc: 0.915\n",
            "Epoch #11, train loss: 291.81536, train acc: 0.957, test acc: 0.915\n",
            "Epoch #12, train loss: 283.41608, train acc: 0.957, test acc: 0.915\n",
            "Epoch #13, train loss: 275.36829, train acc: 0.957, test acc: 0.919\n",
            "Epoch #14, train loss: 267.78479, train acc: 0.959, test acc: 0.915\n",
            "Epoch #15, train loss: 260.78197, train acc: 0.961, test acc: 0.911\n"
          ]
        }
      ],
      "source": [
        "losses, accuracies, accuracies_test = [], [], []\n",
        "losses.append(model.loss(X_train, y_train))\n",
        "accuracies.append(model.accuracy(X_train, y_train))\n",
        "accuracies_test.append(model.accuracy(X_test, y_test))\n",
        "\n",
        "print(\"Random init: train loss: %0.5f, train acc: %0.3f, test acc: %0.3f\"\n",
        "      % (losses[-1], accuracies[-1], accuracies_test[-1]))\n",
        "\n",
        "for epoch in range(15):\n",
        "    for i, (x, y) in enumerate(zip(X_train, y_train)):\n",
        "        model.train(x, y, 0.001)\n",
        "\n",
        "    losses.append(model.loss(X_train, y_train))\n",
        "    accuracies.append(model.accuracy(X_train, y_train))\n",
        "    accuracies_test.append(model.accuracy(X_test, y_test))\n",
        "    print(\"Epoch #%d, train loss: %0.5f, train acc: %0.3f, test acc: %0.3f\"\n",
        "          % (epoch + 1, losses[-1], accuracies[-1], accuracies_test[-1]))\n",
        "    # can see how training happens in each epochs\n",
        "    # accuracy is going up and loss is going down ."
      ]
    },
    {
      "cell_type": "code",
      "execution_count": 48,
      "metadata": {
        "colab": {
          "base_uri": "https://localhost:8080/",
          "height": 452
        },
        "id": "l_W6zIIiHoYs",
        "outputId": "0a405536-7026-4570-d9a1-51bf2af919ba"
      },
      "outputs": [
        {
          "output_type": "display_data",
          "data": {
            "text/plain": [
              "<Figure size 640x480 with 1 Axes>"
            ],
            "image/png": "[encoded data removed]"
          },
          "metadata": {}
        }
      ],
      "source": [
        "plt.plot(losses)\n",
        "plt.title(\"Training loss\");"
      ]
    },
    {
      "cell_type": "code",
      "execution_count": 49,
      "metadata": {
        "colab": {
          "base_uri": "https://localhost:8080/",
          "height": 430
        },
        "id": "esjAtLSdHoYs",
        "outputId": "3900252c-7d91-4954-f993-83332f0d4494"
      },
      "outputs": [
        {
          "output_type": "display_data",
          "data": {
            "text/plain": [
              "<Figure size 640x480 with 1 Axes>"
            ],
            "image/png": "[encoded data removed]"
          },
          "metadata": {}
        }
      ],
      "source": [
        "plt.plot(accuracies, label='train')\n",
        "plt.plot(accuracies_test, label='test')\n",
        "plt.ylim(0, 1.1)\n",
        "plt.ylabel(\"accuracy\")\n",
        "plt.legend(loc='best');"
      ]
    },
    {
      "cell_type": "code",
      "execution_count": 50,
      "metadata": {
        "colab": {
          "base_uri": "https://localhost:8080/",
          "height": 410
        },
        "id": "3S3Kn57OHoYs",
        "outputId": "5f71556e-fd87-4c92-cebd-5cd5ef2731ac"
      },
      "outputs": [
        {
          "output_type": "display_data",
          "data": {
            "text/plain": [
              "<Figure size 1000x400 with 2 Axes>"
            ],
            "image/png": "[encoded data removed]"
          },
          "metadata": {}
        }
      ],
      "source": [
        "plot_prediction(model, sample_idx=4)\n",
        "# our prediction looks pretty good, output predictability is very close to the truth"
      ]
    },
    {
      "cell_type": "markdown",
      "metadata": {
        "id": "x2SDIJbTHoYt"
      },
      "source": [
        "## c) Exercises\n",
        "\n",
        "### Look at worst prediction errors\n",
        "\n",
        "- Use numpy to find test samples for which the model made the worst predictions,\n",
        "- Use the `plot_prediction` to look at the model predictions on those,\n",
        "- Would you have done any better?"
      ]
    },
    {
      "cell_type": "code",
      "execution_count": 51,
      "metadata": {
        "colab": {
          "base_uri": "https://localhost:8080/",
          "height": 410
        },
        "id": "GcQf4AEXHoYt",
        "outputId": "6f2e11c4-d1ef-4b30-b821-47059d161799"
      },
      "outputs": [
        {
          "output_type": "display_data",
          "data": {
            "text/plain": [
              "<Figure size 1000x400 with 2 Axes>"
            ],
            "image/png": "[encoded data removed]"
          },
          "metadata": {}
        }
      ],
      "source": [
        "# Your code here\n",
        "\n",
        "# model is very confident and predicted a class that's not true.\n",
        "# get model prediction on the test set\n",
        "y_pred = model.predict(X_test)\n",
        "\n",
        "# find the indices of the samples where the model's prediction was wrong\n",
        "\n",
        "wrong_indices = np.where(y_pred != y_test) [0] # get all the predictions that are wrong.\n",
        "\n",
        "# for each wrong predictions, get the model's confidence in its prediction\n",
        "# find the max probability of prediction - confidence\n",
        "confidences = np.max (model.forward (X_test[wrong_indices]), axis = 1)\n",
        "\n",
        "# find the index of the sample where the model was most confident but wrong\n",
        "worst_index = wrong_indices [np.argmax(confidences)] # index of which prediction has highest confidence score\n",
        "\n",
        "# use the plot_prediction fn to look at the model's prediction on this sample\n",
        "plot_prediction (model, sample_idx=worst_index)"
      ]
    },
    {
      "cell_type": "markdown",
      "metadata": {
        "id": "-zLw2nRQHoYt"
      },
      "source": [
        "### Hyper parameters settings\n",
        "\n",
        "- Experiment with different hyperparameters:\n",
        "  - learning rate,\n",
        "  - size of hidden layer,\n",
        "  - implement the support for a second hidden layer.\n",
        "  - What is the best test accuracy you can get?"
      ]
    },
    {
      "cell_type": "code",
      "execution_count": 53,
      "metadata": {
        "colab": {
          "base_uri": "https://localhost:8080/"
        },
        "id": "jlzZU8UzHoYt",
        "outputId": "b3678521-2944-4ffc-8c96-f50976ad94e8"
      },
      "outputs": [
        {
          "output_type": "stream",
          "name": "stdout",
          "text": [
            "Best test accuracy:  0.9777777777777777\n",
            "Best test accuracy:  0.9777777777777777\n",
            "Best test accuracy:  0.9777777777777777\n"
          ]
        }
      ],
      "source": [
        "# Your code here\n",
        "\n",
        "# hyperparameters define how we want to try our model.\n",
        "#\n",
        "# define the hyperparameters to try\n",
        "\n",
        "learning_rates = [0.001, 0.01, 0.1]\n",
        "hidden_sizes = [10, 50, 100]\n",
        "\n",
        "# initialize the best accuracy to 0.\n",
        "best_accuracy = 0\n",
        "\n",
        "# for each combination of hyperparameters\n",
        "# try all the experiments, many for loopps to see which combination makes the best performance.\n",
        "\n",
        "\n",
        "for learning_rate in learning_rates:\n",
        "  for hidden_size in hidden_sizes:\n",
        "    #create and train a new model\n",
        "    model = NeuralNet (n_features, hidden_size, n_classes)\n",
        "    for epoch in range (15):\n",
        "      for i, (x,y) in enumerate (zip (X_train, y_train)):\n",
        "        model.train (x, y, learning_rate)\n",
        "\n",
        "\n",
        "# calculate the model's accuracy on the test set\n",
        "    accuracy = model.accuracy (X_test, y_test)\n",
        "\n",
        "    # if this model is better than the previous best model, update the best model and best accuracy\n",
        "    if accuracy > best_accuracy:\n",
        "      best_model = model\n",
        "      best_accuracy = accuracy\n",
        "  # Pring hte best accuracy\n",
        "  print (\"Best test accuracy: \", best_accuracy)"
      ]
    },
    {
      "cell_type": "code",
      "source": [],
      "metadata": {
        "id": "wF71ti8aFy6e"
      },
      "execution_count": null,
      "outputs": []
    }
  ],
  "metadata": {
    "kernelspec": {
      "display_name": "Python 3 (ipykernel)",
      "language": "python",
      "name": "python3"
    },
    "language_info": {
      "codemirror_mode": {
        "name": "ipython",
        "version": 3
      },
      "file_extension": ".py",
      "mimetype": "text/x-python",
      "name": "python",
      "nbconvert_exporter": "python",
      "pygments_lexer": "ipython3",
      "version": "3.11.8"
    },
    "colab": {
      "provenance": []
    }
  },
  "nbformat": 4,
  "nbformat_minor": 0
}